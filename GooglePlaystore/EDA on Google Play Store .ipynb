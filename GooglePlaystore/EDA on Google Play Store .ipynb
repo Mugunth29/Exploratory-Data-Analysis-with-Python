{
 "cells": [
  {
   "cell_type": "markdown",
   "id": "cc5e0158",
   "metadata": {},
   "source": [
    "#    Exploratory data analysis on Google Play Store Dataset .\n",
    "                                                                                 \n",
    "\n",
    "\n"
   ]
  },
  {
   "cell_type": "markdown",
   "id": "f8bb0b8a",
   "metadata": {},
   "source": [
    "## objective:\n",
    "\n",
    "## this project is to deliver insights to understand customer demands better and thus help developers to popularize the product(App).\n",
    "\n",
    "\n",
    "\n",
    "\n",
    "."
   ]
  },
  {
   "cell_type": "markdown",
   "id": "1d77b674",
   "metadata": {},
   "source": [
    "### import libraries"
   ]
  },
  {
   "cell_type": "code",
   "execution_count": 1,
   "id": "2ad6164c",
   "metadata": {},
   "outputs": [],
   "source": [
    "import pandas as pd\n",
    "import numpy as np\n",
    "import matplotlib.pyplot as plt\n",
    "import seaborn as sns\n",
    "%matplotlib inline"
   ]
  },
  {
   "cell_type": "markdown",
   "id": "3c4edc0f",
   "metadata": {},
   "source": [
    "### Read csv file "
   ]
  },
  {
   "cell_type": "code",
   "execution_count": 2,
   "id": "cdeed3f1",
   "metadata": {
    "scrolled": true
   },
   "outputs": [
    {
     "data": {
      "text/html": [
       "<div>\n",
       "<style scoped>\n",
       "    .dataframe tbody tr th:only-of-type {\n",
       "        vertical-align: middle;\n",
       "    }\n",
       "\n",
       "    .dataframe tbody tr th {\n",
       "        vertical-align: top;\n",
       "    }\n",
       "\n",
       "    .dataframe thead th {\n",
       "        text-align: right;\n",
       "    }\n",
       "</style>\n",
       "<table border=\"1\" class=\"dataframe\">\n",
       "  <thead>\n",
       "    <tr style=\"text-align: right;\">\n",
       "      <th></th>\n",
       "      <th>App Name</th>\n",
       "      <th>App Id</th>\n",
       "      <th>Category</th>\n",
       "      <th>Rating</th>\n",
       "      <th>Rating Count</th>\n",
       "      <th>Installs</th>\n",
       "      <th>Minimum Installs</th>\n",
       "      <th>Maximum Installs</th>\n",
       "      <th>Free</th>\n",
       "      <th>Price</th>\n",
       "      <th>...</th>\n",
       "      <th>Developer Website</th>\n",
       "      <th>Developer Email</th>\n",
       "      <th>Released</th>\n",
       "      <th>Last Updated</th>\n",
       "      <th>Content Rating</th>\n",
       "      <th>Privacy Policy</th>\n",
       "      <th>Ad Supported</th>\n",
       "      <th>In App Purchases</th>\n",
       "      <th>Editors Choice</th>\n",
       "      <th>Scraped Time</th>\n",
       "    </tr>\n",
       "  </thead>\n",
       "  <tbody>\n",
       "    <tr>\n",
       "      <th>0</th>\n",
       "      <td>Gakondo</td>\n",
       "      <td>com.ishakwe.gakondo</td>\n",
       "      <td>Adventure</td>\n",
       "      <td>0.0</td>\n",
       "      <td>0.0</td>\n",
       "      <td>10+</td>\n",
       "      <td>10.0</td>\n",
       "      <td>15</td>\n",
       "      <td>True</td>\n",
       "      <td>0.0</td>\n",
       "      <td>...</td>\n",
       "      <td>https://beniyizibyose.tk/#/</td>\n",
       "      <td>jean21101999@gmail.com</td>\n",
       "      <td>Feb 26, 2020</td>\n",
       "      <td>Feb 26, 2020</td>\n",
       "      <td>Everyone</td>\n",
       "      <td>https://beniyizibyose.tk/projects/</td>\n",
       "      <td>False</td>\n",
       "      <td>False</td>\n",
       "      <td>False</td>\n",
       "      <td>2021-06-15 20:19:35</td>\n",
       "    </tr>\n",
       "    <tr>\n",
       "      <th>1</th>\n",
       "      <td>Ampere Battery Info</td>\n",
       "      <td>com.webserveis.batteryinfo</td>\n",
       "      <td>Tools</td>\n",
       "      <td>4.4</td>\n",
       "      <td>64.0</td>\n",
       "      <td>5,000+</td>\n",
       "      <td>5000.0</td>\n",
       "      <td>7662</td>\n",
       "      <td>True</td>\n",
       "      <td>0.0</td>\n",
       "      <td>...</td>\n",
       "      <td>https://webserveis.netlify.app/</td>\n",
       "      <td>webserveis@gmail.com</td>\n",
       "      <td>May 21, 2020</td>\n",
       "      <td>May 06, 2021</td>\n",
       "      <td>Everyone</td>\n",
       "      <td>https://dev4phones.wordpress.com/licencia-de-uso/</td>\n",
       "      <td>True</td>\n",
       "      <td>False</td>\n",
       "      <td>False</td>\n",
       "      <td>2021-06-15 20:19:35</td>\n",
       "    </tr>\n",
       "    <tr>\n",
       "      <th>2</th>\n",
       "      <td>Vibook</td>\n",
       "      <td>com.doantiepvien.crm</td>\n",
       "      <td>Productivity</td>\n",
       "      <td>0.0</td>\n",
       "      <td>0.0</td>\n",
       "      <td>50+</td>\n",
       "      <td>50.0</td>\n",
       "      <td>58</td>\n",
       "      <td>True</td>\n",
       "      <td>0.0</td>\n",
       "      <td>...</td>\n",
       "      <td>NaN</td>\n",
       "      <td>vnacrewit@gmail.com</td>\n",
       "      <td>Aug 9, 2019</td>\n",
       "      <td>Aug 19, 2019</td>\n",
       "      <td>Everyone</td>\n",
       "      <td>https://www.vietnamairlines.com/vn/en/terms-an...</td>\n",
       "      <td>False</td>\n",
       "      <td>False</td>\n",
       "      <td>False</td>\n",
       "      <td>2021-06-15 20:19:35</td>\n",
       "    </tr>\n",
       "    <tr>\n",
       "      <th>3</th>\n",
       "      <td>Smart City Trichy Public Service Vehicles 17UC...</td>\n",
       "      <td>cst.stJoseph.ug17ucs548</td>\n",
       "      <td>Communication</td>\n",
       "      <td>5.0</td>\n",
       "      <td>5.0</td>\n",
       "      <td>10+</td>\n",
       "      <td>10.0</td>\n",
       "      <td>19</td>\n",
       "      <td>True</td>\n",
       "      <td>0.0</td>\n",
       "      <td>...</td>\n",
       "      <td>http://www.climatesmarttech.com/</td>\n",
       "      <td>climatesmarttech2@gmail.com</td>\n",
       "      <td>Sep 10, 2018</td>\n",
       "      <td>Oct 13, 2018</td>\n",
       "      <td>Everyone</td>\n",
       "      <td>NaN</td>\n",
       "      <td>True</td>\n",
       "      <td>False</td>\n",
       "      <td>False</td>\n",
       "      <td>2021-06-15 20:19:35</td>\n",
       "    </tr>\n",
       "    <tr>\n",
       "      <th>4</th>\n",
       "      <td>GROW.me</td>\n",
       "      <td>com.horodyski.grower</td>\n",
       "      <td>Tools</td>\n",
       "      <td>0.0</td>\n",
       "      <td>0.0</td>\n",
       "      <td>100+</td>\n",
       "      <td>100.0</td>\n",
       "      <td>478</td>\n",
       "      <td>True</td>\n",
       "      <td>0.0</td>\n",
       "      <td>...</td>\n",
       "      <td>http://www.horodyski.com.pl</td>\n",
       "      <td>rmilekhorodyski@gmail.com</td>\n",
       "      <td>Feb 21, 2020</td>\n",
       "      <td>Nov 12, 2018</td>\n",
       "      <td>Everyone</td>\n",
       "      <td>http://www.horodyski.com.pl</td>\n",
       "      <td>False</td>\n",
       "      <td>False</td>\n",
       "      <td>False</td>\n",
       "      <td>2021-06-15 20:19:35</td>\n",
       "    </tr>\n",
       "  </tbody>\n",
       "</table>\n",
       "<p>5 rows × 24 columns</p>\n",
       "</div>"
      ],
      "text/plain": [
       "                                            App Name  \\\n",
       "0                                            Gakondo   \n",
       "1                                Ampere Battery Info   \n",
       "2                                             Vibook   \n",
       "3  Smart City Trichy Public Service Vehicles 17UC...   \n",
       "4                                            GROW.me   \n",
       "\n",
       "                       App Id       Category  Rating  Rating Count Installs  \\\n",
       "0         com.ishakwe.gakondo      Adventure     0.0           0.0      10+   \n",
       "1  com.webserveis.batteryinfo          Tools     4.4          64.0   5,000+   \n",
       "2        com.doantiepvien.crm   Productivity     0.0           0.0      50+   \n",
       "3     cst.stJoseph.ug17ucs548  Communication     5.0           5.0      10+   \n",
       "4        com.horodyski.grower          Tools     0.0           0.0     100+   \n",
       "\n",
       "   Minimum Installs  Maximum Installs  Free  Price  ...  \\\n",
       "0              10.0                15  True    0.0  ...   \n",
       "1            5000.0              7662  True    0.0  ...   \n",
       "2              50.0                58  True    0.0  ...   \n",
       "3              10.0                19  True    0.0  ...   \n",
       "4             100.0               478  True    0.0  ...   \n",
       "\n",
       "                  Developer Website              Developer Email  \\\n",
       "0       https://beniyizibyose.tk/#/       jean21101999@gmail.com   \n",
       "1   https://webserveis.netlify.app/         webserveis@gmail.com   \n",
       "2                               NaN          vnacrewit@gmail.com   \n",
       "3  http://www.climatesmarttech.com/  climatesmarttech2@gmail.com   \n",
       "4       http://www.horodyski.com.pl    rmilekhorodyski@gmail.com   \n",
       "\n",
       "       Released  Last Updated Content Rating  \\\n",
       "0  Feb 26, 2020  Feb 26, 2020       Everyone   \n",
       "1  May 21, 2020  May 06, 2021       Everyone   \n",
       "2   Aug 9, 2019  Aug 19, 2019       Everyone   \n",
       "3  Sep 10, 2018  Oct 13, 2018       Everyone   \n",
       "4  Feb 21, 2020  Nov 12, 2018       Everyone   \n",
       "\n",
       "                                      Privacy Policy Ad Supported  \\\n",
       "0                 https://beniyizibyose.tk/projects/        False   \n",
       "1  https://dev4phones.wordpress.com/licencia-de-uso/         True   \n",
       "2  https://www.vietnamairlines.com/vn/en/terms-an...        False   \n",
       "3                                                NaN         True   \n",
       "4                        http://www.horodyski.com.pl        False   \n",
       "\n",
       "  In App Purchases Editors Choice         Scraped Time  \n",
       "0            False          False  2021-06-15 20:19:35  \n",
       "1            False          False  2021-06-15 20:19:35  \n",
       "2            False          False  2021-06-15 20:19:35  \n",
       "3            False          False  2021-06-15 20:19:35  \n",
       "4            False          False  2021-06-15 20:19:35  \n",
       "\n",
       "[5 rows x 24 columns]"
      ]
     },
     "execution_count": 2,
     "metadata": {},
     "output_type": "execute_result"
    }
   ],
   "source": [
    "df=pd.read_csv('D:\\\\Google-Playstore.csv')\n",
    "df.head()"
   ]
  },
  {
   "cell_type": "code",
   "execution_count": 3,
   "id": "397cce28",
   "metadata": {
    "scrolled": true
   },
   "outputs": [
    {
     "data": {
      "text/plain": [
       "(2312944, 24)"
      ]
     },
     "execution_count": 3,
     "metadata": {},
     "output_type": "execute_result"
    }
   ],
   "source": [
    "df.shape"
   ]
  },
  {
   "cell_type": "code",
   "execution_count": 4,
   "id": "4b6c082e",
   "metadata": {},
   "outputs": [
    {
     "data": {
      "text/plain": [
       "Index(['App Name', 'App Id', 'Category', 'Rating', 'Rating Count', 'Installs',\n",
       "       'Minimum Installs', 'Maximum Installs', 'Free', 'Price', 'Currency',\n",
       "       'Size', 'Minimum Android', 'Developer Id', 'Developer Website',\n",
       "       'Developer Email', 'Released', 'Last Updated', 'Content Rating',\n",
       "       'Privacy Policy', 'Ad Supported', 'In App Purchases', 'Editors Choice',\n",
       "       'Scraped Time'],\n",
       "      dtype='object')"
      ]
     },
     "execution_count": 4,
     "metadata": {},
     "output_type": "execute_result"
    }
   ],
   "source": [
    "df.columns"
   ]
  },
  {
   "cell_type": "code",
   "execution_count": 5,
   "id": "f6580a75",
   "metadata": {},
   "outputs": [
    {
     "name": "stdout",
     "output_type": "stream",
     "text": [
      "<class 'pandas.core.frame.DataFrame'>\n",
      "RangeIndex: 2312944 entries, 0 to 2312943\n",
      "Data columns (total 24 columns):\n",
      " #   Column             Dtype  \n",
      "---  ------             -----  \n",
      " 0   App Name           object \n",
      " 1   App Id             object \n",
      " 2   Category           object \n",
      " 3   Rating             float64\n",
      " 4   Rating Count       float64\n",
      " 5   Installs           object \n",
      " 6   Minimum Installs   float64\n",
      " 7   Maximum Installs   int64  \n",
      " 8   Free               bool   \n",
      " 9   Price              float64\n",
      " 10  Currency           object \n",
      " 11  Size               object \n",
      " 12  Minimum Android    object \n",
      " 13  Developer Id       object \n",
      " 14  Developer Website  object \n",
      " 15  Developer Email    object \n",
      " 16  Released           object \n",
      " 17  Last Updated       object \n",
      " 18  Content Rating     object \n",
      " 19  Privacy Policy     object \n",
      " 20  Ad Supported       bool   \n",
      " 21  In App Purchases   bool   \n",
      " 22  Editors Choice     bool   \n",
      " 23  Scraped Time       object \n",
      "dtypes: bool(4), float64(4), int64(1), object(15)\n",
      "memory usage: 361.8+ MB\n"
     ]
    }
   ],
   "source": [
    "df.info()"
   ]
  },
  {
   "cell_type": "code",
   "execution_count": 6,
   "id": "d81a3588",
   "metadata": {
    "scrolled": false
   },
   "outputs": [
    {
     "data": {
      "text/html": [
       "<div>\n",
       "<style scoped>\n",
       "    .dataframe tbody tr th:only-of-type {\n",
       "        vertical-align: middle;\n",
       "    }\n",
       "\n",
       "    .dataframe tbody tr th {\n",
       "        vertical-align: top;\n",
       "    }\n",
       "\n",
       "    .dataframe thead th {\n",
       "        text-align: right;\n",
       "    }\n",
       "</style>\n",
       "<table border=\"1\" class=\"dataframe\">\n",
       "  <thead>\n",
       "    <tr style=\"text-align: right;\">\n",
       "      <th></th>\n",
       "      <th>Rating</th>\n",
       "      <th>Rating Count</th>\n",
       "      <th>Minimum Installs</th>\n",
       "      <th>Maximum Installs</th>\n",
       "      <th>Price</th>\n",
       "    </tr>\n",
       "  </thead>\n",
       "  <tbody>\n",
       "    <tr>\n",
       "      <th>count</th>\n",
       "      <td>2.290061e+06</td>\n",
       "      <td>2.290061e+06</td>\n",
       "      <td>2.312837e+06</td>\n",
       "      <td>2.312944e+06</td>\n",
       "      <td>2.312944e+06</td>\n",
       "    </tr>\n",
       "    <tr>\n",
       "      <th>mean</th>\n",
       "      <td>2.203152e+00</td>\n",
       "      <td>2.864839e+03</td>\n",
       "      <td>1.834452e+05</td>\n",
       "      <td>3.202017e+05</td>\n",
       "      <td>1.034992e-01</td>\n",
       "    </tr>\n",
       "    <tr>\n",
       "      <th>std</th>\n",
       "      <td>2.106223e+00</td>\n",
       "      <td>2.121626e+05</td>\n",
       "      <td>1.513144e+07</td>\n",
       "      <td>2.355495e+07</td>\n",
       "      <td>2.633127e+00</td>\n",
       "    </tr>\n",
       "    <tr>\n",
       "      <th>min</th>\n",
       "      <td>0.000000e+00</td>\n",
       "      <td>0.000000e+00</td>\n",
       "      <td>0.000000e+00</td>\n",
       "      <td>0.000000e+00</td>\n",
       "      <td>0.000000e+00</td>\n",
       "    </tr>\n",
       "    <tr>\n",
       "      <th>25%</th>\n",
       "      <td>0.000000e+00</td>\n",
       "      <td>0.000000e+00</td>\n",
       "      <td>5.000000e+01</td>\n",
       "      <td>8.400000e+01</td>\n",
       "      <td>0.000000e+00</td>\n",
       "    </tr>\n",
       "    <tr>\n",
       "      <th>50%</th>\n",
       "      <td>2.900000e+00</td>\n",
       "      <td>6.000000e+00</td>\n",
       "      <td>5.000000e+02</td>\n",
       "      <td>6.950000e+02</td>\n",
       "      <td>0.000000e+00</td>\n",
       "    </tr>\n",
       "    <tr>\n",
       "      <th>75%</th>\n",
       "      <td>4.300000e+00</td>\n",
       "      <td>4.200000e+01</td>\n",
       "      <td>5.000000e+03</td>\n",
       "      <td>7.354000e+03</td>\n",
       "      <td>0.000000e+00</td>\n",
       "    </tr>\n",
       "    <tr>\n",
       "      <th>max</th>\n",
       "      <td>5.000000e+00</td>\n",
       "      <td>1.385576e+08</td>\n",
       "      <td>1.000000e+10</td>\n",
       "      <td>1.205763e+10</td>\n",
       "      <td>4.000000e+02</td>\n",
       "    </tr>\n",
       "  </tbody>\n",
       "</table>\n",
       "</div>"
      ],
      "text/plain": [
       "             Rating  Rating Count  Minimum Installs  Maximum Installs  \\\n",
       "count  2.290061e+06  2.290061e+06      2.312837e+06      2.312944e+06   \n",
       "mean   2.203152e+00  2.864839e+03      1.834452e+05      3.202017e+05   \n",
       "std    2.106223e+00  2.121626e+05      1.513144e+07      2.355495e+07   \n",
       "min    0.000000e+00  0.000000e+00      0.000000e+00      0.000000e+00   \n",
       "25%    0.000000e+00  0.000000e+00      5.000000e+01      8.400000e+01   \n",
       "50%    2.900000e+00  6.000000e+00      5.000000e+02      6.950000e+02   \n",
       "75%    4.300000e+00  4.200000e+01      5.000000e+03      7.354000e+03   \n",
       "max    5.000000e+00  1.385576e+08      1.000000e+10      1.205763e+10   \n",
       "\n",
       "              Price  \n",
       "count  2.312944e+06  \n",
       "mean   1.034992e-01  \n",
       "std    2.633127e+00  \n",
       "min    0.000000e+00  \n",
       "25%    0.000000e+00  \n",
       "50%    0.000000e+00  \n",
       "75%    0.000000e+00  \n",
       "max    4.000000e+02  "
      ]
     },
     "execution_count": 6,
     "metadata": {},
     "output_type": "execute_result"
    }
   ],
   "source": [
    "df.describe()"
   ]
  },
  {
   "cell_type": "code",
   "execution_count": 7,
   "id": "98af7760",
   "metadata": {},
   "outputs": [],
   "source": [
    "#To look the entire columns we can use this pandas function\n",
    "pd.set_option('display.max_columns', None)"
   ]
  },
  {
   "cell_type": "markdown",
   "id": "febecdb6",
   "metadata": {},
   "source": [
    "### handle missing values"
   ]
  },
  {
   "cell_type": "code",
   "execution_count": 8,
   "id": "851957a4",
   "metadata": {
    "scrolled": true
   },
   "outputs": [
    {
     "data": {
      "text/plain": [
       "Developer Website    760835\n",
       "Privacy Policy       420953\n",
       "Released              71053\n",
       "Rating                22883\n",
       "Rating Count          22883\n",
       "Minimum Android        6530\n",
       "Size                    196\n",
       "Currency                135\n",
       "Installs                107\n",
       "Minimum Installs        107\n",
       "Developer Id             33\n",
       "Developer Email          31\n",
       "App Name                  2\n",
       "App Id                    0\n",
       "Price                     0\n",
       "Free                      0\n",
       "Maximum Installs          0\n",
       "Last Updated              0\n",
       "Content Rating            0\n",
       "Category                  0\n",
       "Ad Supported              0\n",
       "In App Purchases          0\n",
       "Editors Choice            0\n",
       "Scraped Time              0\n",
       "dtype: int64"
      ]
     },
     "execution_count": 8,
     "metadata": {},
     "output_type": "execute_result"
    }
   ],
   "source": [
    "df.isnull().sum().sort_values(ascending=False)"
   ]
  },
  {
   "cell_type": "code",
   "execution_count": 9,
   "id": "d4b1f064",
   "metadata": {},
   "outputs": [
    {
     "data": {
      "text/plain": [
       "<AxesSubplot:>"
      ]
     },
     "execution_count": 9,
     "metadata": {},
     "output_type": "execute_result"
    },
    {
     "data": {
      "image/png": "[encoded data removed]",
      "text/plain": [
       "<Figure size 1080x720 with 2 Axes>"
      ]
     },
     "metadata": {
      "needs_background": "light"
     },
     "output_type": "display_data"
    }
   ],
   "source": [
    "plt.figure(figsize=(15,10))\n",
    "sns.heatmap(df.isnull())"
   ]
  },
  {
   "cell_type": "markdown",
   "id": "57459502",
   "metadata": {},
   "source": [
    "### Missing values plot in percentage "
   ]
  },
  {
   "cell_type": "code",
   "execution_count": 10,
   "id": "94d686d9",
   "metadata": {},
   "outputs": [
    {
     "data": {
      "text/plain": [
       "App Name              0.000086\n",
       "App Id                0.000000\n",
       "Category              0.000000\n",
       "Rating                0.989345\n",
       "Rating Count          0.989345\n",
       "Installs              0.004626\n",
       "Minimum Installs      0.004626\n",
       "Maximum Installs      0.000000\n",
       "Free                  0.000000\n",
       "Price                 0.000000\n",
       "Currency              0.005837\n",
       "Size                  0.008474\n",
       "Minimum Android       0.282324\n",
       "Developer Id          0.001427\n",
       "Developer Website    32.894657\n",
       "Developer Email       0.001340\n",
       "Released              3.071972\n",
       "Last Updated          0.000000\n",
       "Content Rating        0.000000\n",
       "Privacy Policy       18.199879\n",
       "Ad Supported          0.000000\n",
       "In App Purchases      0.000000\n",
       "Editors Choice        0.000000\n",
       "Scraped Time          0.000000\n",
       "dtype: float64"
      ]
     },
     "execution_count": 10,
     "metadata": {},
     "output_type": "execute_result"
    }
   ],
   "source": [
    "per_missing=df.isnull().sum()*100/len(df)\n",
    "per_missing"
   ]
  },
  {
   "cell_type": "code",
   "execution_count": 11,
   "id": "0c906068",
   "metadata": {},
   "outputs": [
    {
     "data": {
      "text/plain": [
       "Text(0.5, 1.0, 'percentage Missing Null value')"
      ]
     },
     "execution_count": 11,
     "metadata": {},
     "output_type": "execute_result"
    },
    {
     "data": {
      "image/png": "[encoded data removed]",
      "text/plain": [
       "<Figure size 720x720 with 1 Axes>"
      ]
     },
     "metadata": {
      "needs_background": "light"
     },
     "output_type": "display_data"
    }
   ],
   "source": [
    "plt.figure(figsize=(10,10))\n",
    "per_missing.plot(kind = 'barh')\n",
    "plt.title(\"percentage Missing Null value\")"
   ]
  },
  {
   "cell_type": "markdown",
   "id": "77e9e322",
   "metadata": {},
   "source": [
    "#### Developer Website and Privacy Policy column have more null values so we can drop these columns "
   ]
  },
  {
   "cell_type": "code",
   "execution_count": 12,
   "id": "b1b96eb5",
   "metadata": {},
   "outputs": [],
   "source": [
    "df.drop('Developer Website',axis=1,inplace=True)"
   ]
  },
  {
   "cell_type": "code",
   "execution_count": 13,
   "id": "b0fb1d9a",
   "metadata": {},
   "outputs": [],
   "source": [
    "df.drop('Privacy Policy',axis=1,inplace=True)"
   ]
  },
  {
   "cell_type": "markdown",
   "id": "010340be",
   "metadata": {},
   "source": [
    "#### we can drop the small null values for the columns\n",
    "  ####  (Size , Currency , Installs, Minimum Installs, Developer Id, Developer Email)\n"
   ]
  },
  {
   "cell_type": "code",
   "execution_count": 14,
   "id": "01f588fe",
   "metadata": {},
   "outputs": [],
   "source": [
    "df.dropna(subset=['App Name','Size','Currency','Installs','Minimum Installs','Developer Id','Developer Email'],axis=0,inplace=True)"
   ]
  },
  {
   "cell_type": "code",
   "execution_count": 15,
   "id": "53a6ddfe",
   "metadata": {},
   "outputs": [
    {
     "data": {
      "text/plain": [
       "App Name                0\n",
       "App Id                  0\n",
       "Category                0\n",
       "Rating              22572\n",
       "Rating Count        22572\n",
       "Installs                0\n",
       "Minimum Installs        0\n",
       "Maximum Installs        0\n",
       "Free                    0\n",
       "Price                   0\n",
       "Currency                0\n",
       "Size                    0\n",
       "Minimum Android      6530\n",
       "Developer Id            0\n",
       "Developer Email         0\n",
       "Released            70748\n",
       "Last Updated            0\n",
       "Content Rating          0\n",
       "Ad Supported            0\n",
       "In App Purchases        0\n",
       "Editors Choice          0\n",
       "Scraped Time            0\n",
       "dtype: int64"
      ]
     },
     "execution_count": 15,
     "metadata": {},
     "output_type": "execute_result"
    }
   ],
   "source": [
    "df.isnull().sum()\n"
   ]
  },
  {
   "cell_type": "markdown",
   "id": "486bf601",
   "metadata": {},
   "source": [
    "Rating,Rating Count,Released are important column so it is good to fill the null values"
   ]
  },
  {
   "cell_type": "markdown",
   "id": "0ffdfd15",
   "metadata": {},
   "source": [
    "# Data Cleaning"
   ]
  },
  {
   "cell_type": "markdown",
   "id": "04ec06d9",
   "metadata": {},
   "source": [
    "### check any duplicates in the App Name"
   ]
  },
  {
   "cell_type": "code",
   "execution_count": 16,
   "id": "fb6c87da",
   "metadata": {},
   "outputs": [
    {
     "name": "stdout",
     "output_type": "stream",
     "text": [
      "True\n"
     ]
    }
   ],
   "source": [
    "dup=df['App Name'].duplicated().any()\n",
    "print(dup)"
   ]
  },
  {
   "cell_type": "code",
   "execution_count": 17,
   "id": "e2b64ffb",
   "metadata": {},
   "outputs": [
    {
     "data": {
      "text/plain": [
       "Tic Tac Toe                     382\n",
       "Calculator                      261\n",
       "Flashlight                      256\n",
       "BMI Calculator                  201\n",
       "Age Calculator                  190\n",
       "                               ... \n",
       "Foodiz Resto                      1\n",
       "Astra OtoReward                   1\n",
       "MedTerm Dictionary                1\n",
       "Urban garden and sowing.          1\n",
       "Biliyor Musun - Sonsuz Yarış      1\n",
       "Name: App Name, Length: 2177593, dtype: int64"
      ]
     },
     "execution_count": 17,
     "metadata": {},
     "output_type": "execute_result"
    }
   ],
   "source": [
    "df['App Name'].value_counts()"
   ]
  },
  {
   "cell_type": "code",
   "execution_count": 18,
   "id": "c4bf57f4",
   "metadata": {},
   "outputs": [
    {
     "data": {
      "text/html": [
       "<div>\n",
       "<style scoped>\n",
       "    .dataframe tbody tr th:only-of-type {\n",
       "        vertical-align: middle;\n",
       "    }\n",
       "\n",
       "    .dataframe tbody tr th {\n",
       "        vertical-align: top;\n",
       "    }\n",
       "\n",
       "    .dataframe thead th {\n",
       "        text-align: right;\n",
       "    }\n",
       "</style>\n",
       "<table border=\"1\" class=\"dataframe\">\n",
       "  <thead>\n",
       "    <tr style=\"text-align: right;\">\n",
       "      <th></th>\n",
       "      <th>App Name</th>\n",
       "      <th>App Id</th>\n",
       "      <th>Category</th>\n",
       "      <th>Rating</th>\n",
       "      <th>Rating Count</th>\n",
       "      <th>Installs</th>\n",
       "      <th>Minimum Installs</th>\n",
       "      <th>Maximum Installs</th>\n",
       "      <th>Free</th>\n",
       "      <th>Price</th>\n",
       "      <th>Currency</th>\n",
       "      <th>Size</th>\n",
       "      <th>Minimum Android</th>\n",
       "      <th>Developer Id</th>\n",
       "      <th>Developer Email</th>\n",
       "      <th>Released</th>\n",
       "      <th>Last Updated</th>\n",
       "      <th>Content Rating</th>\n",
       "      <th>Ad Supported</th>\n",
       "      <th>In App Purchases</th>\n",
       "      <th>Editors Choice</th>\n",
       "      <th>Scraped Time</th>\n",
       "    </tr>\n",
       "  </thead>\n",
       "  <tbody>\n",
       "    <tr>\n",
       "      <th>3918</th>\n",
       "      <td>Tic Tac Toe</td>\n",
       "      <td>com.dev.atte.tic_tac_toe</td>\n",
       "      <td>Puzzle</td>\n",
       "      <td>0.0</td>\n",
       "      <td>0.0</td>\n",
       "      <td>10+</td>\n",
       "      <td>10.0</td>\n",
       "      <td>30</td>\n",
       "      <td>True</td>\n",
       "      <td>0.0</td>\n",
       "      <td>USD</td>\n",
       "      <td>3.4M</td>\n",
       "      <td>4.0 and up</td>\n",
       "      <td>ATTE AKA FRANCOIS</td>\n",
       "      <td>dev.atte.francois@gmail.com</td>\n",
       "      <td>May 18, 2018</td>\n",
       "      <td>May 18, 2018</td>\n",
       "      <td>Everyone</td>\n",
       "      <td>True</td>\n",
       "      <td>False</td>\n",
       "      <td>False</td>\n",
       "      <td>2021-06-15 20:23:22</td>\n",
       "    </tr>\n",
       "    <tr>\n",
       "      <th>13758</th>\n",
       "      <td>Tic Tac Toe</td>\n",
       "      <td>com.md.tictactoe</td>\n",
       "      <td>Board</td>\n",
       "      <td>0.0</td>\n",
       "      <td>0.0</td>\n",
       "      <td>10+</td>\n",
       "      <td>10.0</td>\n",
       "      <td>31</td>\n",
       "      <td>True</td>\n",
       "      <td>0.0</td>\n",
       "      <td>USD</td>\n",
       "      <td>34M</td>\n",
       "      <td>4.3 and up</td>\n",
       "      <td>Smart Digital Tools</td>\n",
       "      <td>msms.zaman@gmail.com</td>\n",
       "      <td>Nov 2, 2020</td>\n",
       "      <td>Nov 18, 2020</td>\n",
       "      <td>Everyone</td>\n",
       "      <td>True</td>\n",
       "      <td>False</td>\n",
       "      <td>False</td>\n",
       "      <td>2021-06-15 20:32:58</td>\n",
       "    </tr>\n",
       "    <tr>\n",
       "      <th>25351</th>\n",
       "      <td>Tic Tac Toe</td>\n",
       "      <td>com.sthirumuru.tictactoenew</td>\n",
       "      <td>Board</td>\n",
       "      <td>4.2</td>\n",
       "      <td>11.0</td>\n",
       "      <td>5,000+</td>\n",
       "      <td>5000.0</td>\n",
       "      <td>6379</td>\n",
       "      <td>True</td>\n",
       "      <td>0.0</td>\n",
       "      <td>USD</td>\n",
       "      <td>7.4M</td>\n",
       "      <td>7.0 and up</td>\n",
       "      <td>Sundeep Reddy Thirumuru</td>\n",
       "      <td>sundeep.thirumuru@gmail.com</td>\n",
       "      <td>Apr 13, 2021</td>\n",
       "      <td>Jun 03, 2021</td>\n",
       "      <td>Everyone</td>\n",
       "      <td>True</td>\n",
       "      <td>False</td>\n",
       "      <td>False</td>\n",
       "      <td>2021-06-15 20:44:27</td>\n",
       "    </tr>\n",
       "    <tr>\n",
       "      <th>28142</th>\n",
       "      <td>Tic Tac Toe</td>\n",
       "      <td>com.fsk00x.TicTacToe</td>\n",
       "      <td>Board</td>\n",
       "      <td>0.0</td>\n",
       "      <td>0.0</td>\n",
       "      <td>500+</td>\n",
       "      <td>500.0</td>\n",
       "      <td>922</td>\n",
       "      <td>True</td>\n",
       "      <td>0.0</td>\n",
       "      <td>USD</td>\n",
       "      <td>8.6M</td>\n",
       "      <td>4.1 and up</td>\n",
       "      <td>SteadFast Games</td>\n",
       "      <td>devmethyl@outlook.com</td>\n",
       "      <td>Feb 13, 2020</td>\n",
       "      <td>Feb 13, 2020</td>\n",
       "      <td>Everyone</td>\n",
       "      <td>True</td>\n",
       "      <td>False</td>\n",
       "      <td>False</td>\n",
       "      <td>2021-06-15 20:47:17</td>\n",
       "    </tr>\n",
       "    <tr>\n",
       "      <th>30962</th>\n",
       "      <td>Tic Tac Toe</td>\n",
       "      <td>net.snatchdreams.tictactoe</td>\n",
       "      <td>Puzzle</td>\n",
       "      <td>0.0</td>\n",
       "      <td>0.0</td>\n",
       "      <td>10+</td>\n",
       "      <td>10.0</td>\n",
       "      <td>38</td>\n",
       "      <td>True</td>\n",
       "      <td>0.0</td>\n",
       "      <td>USD</td>\n",
       "      <td>927k</td>\n",
       "      <td>4.0 and up</td>\n",
       "      <td>SnatchDreams</td>\n",
       "      <td>snatchdreams@gmail.com</td>\n",
       "      <td>Jul 16, 2017</td>\n",
       "      <td>Oct 16, 2019</td>\n",
       "      <td>Everyone</td>\n",
       "      <td>True</td>\n",
       "      <td>False</td>\n",
       "      <td>False</td>\n",
       "      <td>2021-06-15 20:50:12</td>\n",
       "    </tr>\n",
       "    <tr>\n",
       "      <th>...</th>\n",
       "      <td>...</td>\n",
       "      <td>...</td>\n",
       "      <td>...</td>\n",
       "      <td>...</td>\n",
       "      <td>...</td>\n",
       "      <td>...</td>\n",
       "      <td>...</td>\n",
       "      <td>...</td>\n",
       "      <td>...</td>\n",
       "      <td>...</td>\n",
       "      <td>...</td>\n",
       "      <td>...</td>\n",
       "      <td>...</td>\n",
       "      <td>...</td>\n",
       "      <td>...</td>\n",
       "      <td>...</td>\n",
       "      <td>...</td>\n",
       "      <td>...</td>\n",
       "      <td>...</td>\n",
       "      <td>...</td>\n",
       "      <td>...</td>\n",
       "      <td>...</td>\n",
       "    </tr>\n",
       "    <tr>\n",
       "      <th>2272773</th>\n",
       "      <td>Tic Tac Toe</td>\n",
       "      <td>com.tictactoe.MobileAppsPro</td>\n",
       "      <td>Board</td>\n",
       "      <td>3.8</td>\n",
       "      <td>9269.0</td>\n",
       "      <td>500,000+</td>\n",
       "      <td>500000.0</td>\n",
       "      <td>800662</td>\n",
       "      <td>True</td>\n",
       "      <td>0.0</td>\n",
       "      <td>USD</td>\n",
       "      <td>2.3M</td>\n",
       "      <td>2.3 and up</td>\n",
       "      <td>Mobile Apps Pro</td>\n",
       "      <td>smartyka@gmail.com</td>\n",
       "      <td>Jan 9, 2015</td>\n",
       "      <td>May 20, 2015</td>\n",
       "      <td>Everyone</td>\n",
       "      <td>True</td>\n",
       "      <td>False</td>\n",
       "      <td>False</td>\n",
       "      <td>2021-06-16 12:23:56</td>\n",
       "    </tr>\n",
       "    <tr>\n",
       "      <th>2281376</th>\n",
       "      <td>Tic Tac Toe</td>\n",
       "      <td>com.erjainam.tictactoe.release</td>\n",
       "      <td>Board</td>\n",
       "      <td>0.0</td>\n",
       "      <td>0.0</td>\n",
       "      <td>50+</td>\n",
       "      <td>50.0</td>\n",
       "      <td>50</td>\n",
       "      <td>True</td>\n",
       "      <td>0.0</td>\n",
       "      <td>USD</td>\n",
       "      <td>3.5M</td>\n",
       "      <td>5.0 and up</td>\n",
       "      <td>Jainam Jhaveri</td>\n",
       "      <td>engineerjainam@gmail.com</td>\n",
       "      <td>Sep 2, 2018</td>\n",
       "      <td>Sep 02, 2018</td>\n",
       "      <td>Everyone</td>\n",
       "      <td>True</td>\n",
       "      <td>False</td>\n",
       "      <td>False</td>\n",
       "      <td>2021-06-16 12:31:30</td>\n",
       "    </tr>\n",
       "    <tr>\n",
       "      <th>2282023</th>\n",
       "      <td>Tic Tac Toe</td>\n",
       "      <td>com.swapworld.tic_tac_toe</td>\n",
       "      <td>Board</td>\n",
       "      <td>4.7</td>\n",
       "      <td>7.0</td>\n",
       "      <td>10+</td>\n",
       "      <td>10.0</td>\n",
       "      <td>34</td>\n",
       "      <td>True</td>\n",
       "      <td>0.0</td>\n",
       "      <td>USD</td>\n",
       "      <td>5.3M</td>\n",
       "      <td>4.1 and up</td>\n",
       "      <td>Cybertron's Hogwarts</td>\n",
       "      <td>prudhvik.1996@gmail.com</td>\n",
       "      <td>Sep 4, 2019</td>\n",
       "      <td>Sep 17, 2019</td>\n",
       "      <td>Everyone</td>\n",
       "      <td>False</td>\n",
       "      <td>False</td>\n",
       "      <td>False</td>\n",
       "      <td>2021-06-16 12:32:05</td>\n",
       "    </tr>\n",
       "    <tr>\n",
       "      <th>2299121</th>\n",
       "      <td>Tic Tac Toe</td>\n",
       "      <td>com.infuse.tictactoe</td>\n",
       "      <td>Board</td>\n",
       "      <td>4.8</td>\n",
       "      <td>20.0</td>\n",
       "      <td>100+</td>\n",
       "      <td>100.0</td>\n",
       "      <td>462</td>\n",
       "      <td>True</td>\n",
       "      <td>0.0</td>\n",
       "      <td>USD</td>\n",
       "      <td>2.1M</td>\n",
       "      <td>2.2 and up</td>\n",
       "      <td>Infuse Apps</td>\n",
       "      <td>infuseandroidapps@gmail.com</td>\n",
       "      <td>Jan 18, 2015</td>\n",
       "      <td>Jan 18, 2015</td>\n",
       "      <td>Everyone</td>\n",
       "      <td>True</td>\n",
       "      <td>False</td>\n",
       "      <td>False</td>\n",
       "      <td>2021-06-16 12:47:11</td>\n",
       "    </tr>\n",
       "    <tr>\n",
       "      <th>2310375</th>\n",
       "      <td>Tic Tac Toe</td>\n",
       "      <td>com.justmailtoavi.avinashk.threet</td>\n",
       "      <td>Puzzle</td>\n",
       "      <td>4.7</td>\n",
       "      <td>10.0</td>\n",
       "      <td>100+</td>\n",
       "      <td>100.0</td>\n",
       "      <td>173</td>\n",
       "      <td>True</td>\n",
       "      <td>0.0</td>\n",
       "      <td>USD</td>\n",
       "      <td>1.7M</td>\n",
       "      <td>4.4 and up</td>\n",
       "      <td>RentMyTent</td>\n",
       "      <td>justmailtoavi@gmail.com</td>\n",
       "      <td>Mar 30, 2016</td>\n",
       "      <td>Apr 01, 2016</td>\n",
       "      <td>Everyone</td>\n",
       "      <td>False</td>\n",
       "      <td>False</td>\n",
       "      <td>False</td>\n",
       "      <td>2021-06-16 12:57:05</td>\n",
       "    </tr>\n",
       "  </tbody>\n",
       "</table>\n",
       "<p>382 rows × 22 columns</p>\n",
       "</div>"
      ],
      "text/plain": [
       "            App Name                             App Id Category  Rating  \\\n",
       "3918     Tic Tac Toe           com.dev.atte.tic_tac_toe   Puzzle     0.0   \n",
       "13758    Tic Tac Toe                   com.md.tictactoe    Board     0.0   \n",
       "25351    Tic Tac Toe        com.sthirumuru.tictactoenew    Board     4.2   \n",
       "28142    Tic Tac Toe               com.fsk00x.TicTacToe    Board     0.0   \n",
       "30962    Tic Tac Toe         net.snatchdreams.tictactoe   Puzzle     0.0   \n",
       "...              ...                                ...      ...     ...   \n",
       "2272773  Tic Tac Toe        com.tictactoe.MobileAppsPro    Board     3.8   \n",
       "2281376  Tic Tac Toe     com.erjainam.tictactoe.release    Board     0.0   \n",
       "2282023  Tic Tac Toe          com.swapworld.tic_tac_toe    Board     4.7   \n",
       "2299121  Tic Tac Toe               com.infuse.tictactoe    Board     4.8   \n",
       "2310375  Tic Tac Toe  com.justmailtoavi.avinashk.threet   Puzzle     4.7   \n",
       "\n",
       "         Rating Count  Installs  Minimum Installs  Maximum Installs  Free  \\\n",
       "3918              0.0       10+              10.0                30  True   \n",
       "13758             0.0       10+              10.0                31  True   \n",
       "25351            11.0    5,000+            5000.0              6379  True   \n",
       "28142             0.0      500+             500.0               922  True   \n",
       "30962             0.0       10+              10.0                38  True   \n",
       "...               ...       ...               ...               ...   ...   \n",
       "2272773        9269.0  500,000+          500000.0            800662  True   \n",
       "2281376           0.0       50+              50.0                50  True   \n",
       "2282023           7.0       10+              10.0                34  True   \n",
       "2299121          20.0      100+             100.0               462  True   \n",
       "2310375          10.0      100+             100.0               173  True   \n",
       "\n",
       "         Price Currency  Size Minimum Android             Developer Id  \\\n",
       "3918       0.0      USD  3.4M      4.0 and up        ATTE AKA FRANCOIS   \n",
       "13758      0.0      USD   34M      4.3 and up      Smart Digital Tools   \n",
       "25351      0.0      USD  7.4M      7.0 and up  Sundeep Reddy Thirumuru   \n",
       "28142      0.0      USD  8.6M      4.1 and up          SteadFast Games   \n",
       "30962      0.0      USD  927k      4.0 and up             SnatchDreams   \n",
       "...        ...      ...   ...             ...                      ...   \n",
       "2272773    0.0      USD  2.3M      2.3 and up          Mobile Apps Pro   \n",
       "2281376    0.0      USD  3.5M      5.0 and up           Jainam Jhaveri   \n",
       "2282023    0.0      USD  5.3M      4.1 and up     Cybertron's Hogwarts   \n",
       "2299121    0.0      USD  2.1M      2.2 and up              Infuse Apps   \n",
       "2310375    0.0      USD  1.7M      4.4 and up               RentMyTent   \n",
       "\n",
       "                     Developer Email      Released  Last Updated  \\\n",
       "3918     dev.atte.francois@gmail.com  May 18, 2018  May 18, 2018   \n",
       "13758           msms.zaman@gmail.com   Nov 2, 2020  Nov 18, 2020   \n",
       "25351    sundeep.thirumuru@gmail.com  Apr 13, 2021  Jun 03, 2021   \n",
       "28142          devmethyl@outlook.com  Feb 13, 2020  Feb 13, 2020   \n",
       "30962         snatchdreams@gmail.com  Jul 16, 2017  Oct 16, 2019   \n",
       "...                              ...           ...           ...   \n",
       "2272773           smartyka@gmail.com   Jan 9, 2015  May 20, 2015   \n",
       "2281376     engineerjainam@gmail.com   Sep 2, 2018  Sep 02, 2018   \n",
       "2282023      prudhvik.1996@gmail.com   Sep 4, 2019  Sep 17, 2019   \n",
       "2299121  infuseandroidapps@gmail.com  Jan 18, 2015  Jan 18, 2015   \n",
       "2310375      justmailtoavi@gmail.com  Mar 30, 2016  Apr 01, 2016   \n",
       "\n",
       "        Content Rating  Ad Supported  In App Purchases  Editors Choice  \\\n",
       "3918          Everyone          True             False           False   \n",
       "13758         Everyone          True             False           False   \n",
       "25351         Everyone          True             False           False   \n",
       "28142         Everyone          True             False           False   \n",
       "30962         Everyone          True             False           False   \n",
       "...                ...           ...               ...             ...   \n",
       "2272773       Everyone          True             False           False   \n",
       "2281376       Everyone          True             False           False   \n",
       "2282023       Everyone         False             False           False   \n",
       "2299121       Everyone          True             False           False   \n",
       "2310375       Everyone         False             False           False   \n",
       "\n",
       "                Scraped Time  \n",
       "3918     2021-06-15 20:23:22  \n",
       "13758    2021-06-15 20:32:58  \n",
       "25351    2021-06-15 20:44:27  \n",
       "28142    2021-06-15 20:47:17  \n",
       "30962    2021-06-15 20:50:12  \n",
       "...                      ...  \n",
       "2272773  2021-06-16 12:23:56  \n",
       "2281376  2021-06-16 12:31:30  \n",
       "2282023  2021-06-16 12:32:05  \n",
       "2299121  2021-06-16 12:47:11  \n",
       "2310375  2021-06-16 12:57:05  \n",
       "\n",
       "[382 rows x 22 columns]"
      ]
     },
     "execution_count": 18,
     "metadata": {},
     "output_type": "execute_result"
    }
   ],
   "source": [
    "df[df['App Name'] == 'Tic Tac Toe']"
   ]
  },
  {
   "cell_type": "code",
   "execution_count": 19,
   "id": "25e35ac5",
   "metadata": {},
   "outputs": [
    {
     "data": {
      "text/plain": [
       "False"
      ]
     },
     "execution_count": 19,
     "metadata": {},
     "output_type": "execute_result"
    }
   ],
   "source": [
    "df['App Id'].duplicated().any()"
   ]
  },
  {
   "cell_type": "code",
   "execution_count": 20,
   "id": "7d6e69d4",
   "metadata": {},
   "outputs": [
    {
     "data": {
      "text/plain": [
       "com.ishakwe.gakondo                    1\n",
       "com.avai.amp.dewtour                   1\n",
       "com.myhomebuy                          1\n",
       "com.apocalipseescatologia.app          1\n",
       "com.puzzlegame.wordconnect             1\n",
       "                                      ..\n",
       "id.compro.virtualcompetition           1\n",
       "com.fitivity.basketball_point_guard    1\n",
       "smartgr.gardenshower.ideas             1\n",
       "com.euroland.mobiletools.ae_nbad       1\n",
       "com.yyazilim.biliyormusun              1\n",
       "Name: App Id, Length: 2312548, dtype: int64"
      ]
     },
     "execution_count": 20,
     "metadata": {},
     "output_type": "execute_result"
    }
   ],
   "source": [
    "df['App Id'].value_counts()"
   ]
  },
  {
   "cell_type": "code",
   "execution_count": 21,
   "id": "41d6e130",
   "metadata": {},
   "outputs": [
    {
     "data": {
      "text/plain": [
       "array(['10+', '5,000+', '50+', '100+', '1,000+', '500+', '50,000+',\n",
       "       '10,000+', '1+', '500,000+', '100,000+', '5+', '10,000,000+',\n",
       "       '1,000,000+', '5,000,000+', '0+', '100,000,000+', '50,000,000+',\n",
       "       '1,000,000,000+', '500,000,000+', '5,000,000,000+',\n",
       "       '10,000,000,000+'], dtype=object)"
      ]
     },
     "execution_count": 21,
     "metadata": {},
     "output_type": "execute_result"
    }
   ],
   "source": [
    "df['Installs'].unique()"
   ]
  },
  {
   "cell_type": "code",
   "execution_count": 25,
   "id": "1d650f58",
   "metadata": {},
   "outputs": [],
   "source": [
    "df['Installs'] = df['Installs'].str.split('+').str[0]    # reomoves the + symbol\n",
    "df['Installs'].replace(',','', regex=True, inplace=True) #replace the commas ',' in the install column\n",
    "df['Installs'] = df['Installs'].astype('int64')     "
   ]
  },
  {
   "cell_type": "code",
   "execution_count": 23,
   "id": "28e1a4be",
   "metadata": {},
   "outputs": [
    {
     "data": {
      "text/plain": [
       "array(['10', '5000', '50', '100', '1000', '500', '50000', '10000', '1',\n",
       "       '500000', '100000', '5', '10000000', '1000000', '5000000', '0',\n",
       "       '100000000', '50000000', '1000000000', '500000000', '5000000000',\n",
       "       '10000000000'], dtype=object)"
      ]
     },
     "execution_count": 23,
     "metadata": {},
     "output_type": "execute_result"
    }
   ],
   "source": [
    "df['Installs'].unique()"
   ]
  },
  {
   "cell_type": "markdown",
   "id": "29253167",
   "metadata": {},
   "source": [
    "The Size of data can be in GB, MB and KB let's convert the data into the size in MB\n",
    "\n"
   ]
  },
  {
   "cell_type": "code",
   "execution_count": 26,
   "id": "9f21e2d4",
   "metadata": {},
   "outputs": [],
   "source": [
    "df['Size'] = df['Size'].apply(lambda x: str(x).replace('M', '') if 'M' in str(x) else x)\n"
   ]
  },
  {
   "cell_type": "code",
   "execution_count": 27,
   "id": "e0ecdf5a",
   "metadata": {},
   "outputs": [],
   "source": [
    "df['Size'] = df['Size'].apply(lambda x: str(x).replace(',', '.') if ',' in str(x) else x)\n"
   ]
  },
  {
   "cell_type": "markdown",
   "id": "3324e4f9",
   "metadata": {},
   "source": [
    "conversion of kbs to mb\n",
    "\n"
   ]
  },
  {
   "cell_type": "code",
   "execution_count": 28,
   "id": "5493cf54",
   "metadata": {},
   "outputs": [],
   "source": [
    "df['Size'] = df['Size'].apply(lambda x: float(str(x).replace('k', '')) / 1000 if 'k' in str(x) else x)\n"
   ]
  },
  {
   "cell_type": "code",
   "execution_count": 29,
   "id": "c4b27a5f",
   "metadata": {},
   "outputs": [],
   "source": [
    "df['Size'] = df['Size'].apply(lambda x: str(x).replace('Varies with device', '0') if 'Varies with device' in str(x) else x)\n"
   ]
  },
  {
   "cell_type": "markdown",
   "id": "3d81c756",
   "metadata": {},
   "source": [
    "conversion of data Gbs to Mb"
   ]
  },
  {
   "cell_type": "code",
   "execution_count": 30,
   "id": "773bfae2",
   "metadata": {},
   "outputs": [],
   "source": [
    "df['Size'] = df['Size'].apply(lambda x: float(str(x).replace('G', '')) * 1000 if 'G' in str(x) else x)\n"
   ]
  },
  {
   "cell_type": "code",
   "execution_count": 31,
   "id": "8fb13506",
   "metadata": {},
   "outputs": [],
   "source": [
    "df['Size'] = df['Size'].apply(lambda x: float(x))\n"
   ]
  },
  {
   "cell_type": "markdown",
   "id": "4ed81353",
   "metadata": {},
   "source": [
    " Creataing the column type for free and paid Apps by using the Free column, it's helpfull while dealing with the paid and Free Apps\n",
    "\n"
   ]
  },
  {
   "cell_type": "code",
   "execution_count": 33,
   "id": "62a73f0d",
   "metadata": {},
   "outputs": [],
   "source": [
    "df['Type'] = np.where(df['Free'] == True,'Free','Paid')\n",
    "df.drop(['Free'],axis=1, inplace= True )"
   ]
  },
  {
   "cell_type": "code",
   "execution_count": 37,
   "id": "b4b53698",
   "metadata": {},
   "outputs": [
    {
     "data": {
      "text/html": [
       "<div>\n",
       "<style scoped>\n",
       "    .dataframe tbody tr th:only-of-type {\n",
       "        vertical-align: middle;\n",
       "    }\n",
       "\n",
       "    .dataframe tbody tr th {\n",
       "        vertical-align: top;\n",
       "    }\n",
       "\n",
       "    .dataframe thead th {\n",
       "        text-align: right;\n",
       "    }\n",
       "</style>\n",
       "<table border=\"1\" class=\"dataframe\">\n",
       "  <thead>\n",
       "    <tr style=\"text-align: right;\">\n",
       "      <th></th>\n",
       "      <th>App Name</th>\n",
       "      <th>App Id</th>\n",
       "      <th>Category</th>\n",
       "      <th>Rating</th>\n",
       "      <th>Rating Count</th>\n",
       "      <th>Installs</th>\n",
       "      <th>Minimum Installs</th>\n",
       "      <th>Maximum Installs</th>\n",
       "      <th>Price</th>\n",
       "      <th>Currency</th>\n",
       "      <th>Size</th>\n",
       "      <th>Minimum Android</th>\n",
       "      <th>Developer Id</th>\n",
       "      <th>Developer Email</th>\n",
       "      <th>Released</th>\n",
       "      <th>Last Updated</th>\n",
       "      <th>Content Rating</th>\n",
       "      <th>Ad Supported</th>\n",
       "      <th>In App Purchases</th>\n",
       "      <th>Editors Choice</th>\n",
       "      <th>Scraped Time</th>\n",
       "      <th>Type</th>\n",
       "    </tr>\n",
       "  </thead>\n",
       "  <tbody>\n",
       "    <tr>\n",
       "      <th>0</th>\n",
       "      <td>Gakondo</td>\n",
       "      <td>com.ishakwe.gakondo</td>\n",
       "      <td>Adventure</td>\n",
       "      <td>0.0</td>\n",
       "      <td>0.0</td>\n",
       "      <td>10</td>\n",
       "      <td>10.0</td>\n",
       "      <td>15</td>\n",
       "      <td>0.0</td>\n",
       "      <td>USD</td>\n",
       "      <td>10.0</td>\n",
       "      <td>7.1 and up</td>\n",
       "      <td>Jean Confident Irénée NIYIZIBYOSE</td>\n",
       "      <td>jean21101999@gmail.com</td>\n",
       "      <td>Feb 26, 2020</td>\n",
       "      <td>Feb 26, 2020</td>\n",
       "      <td>Everyone</td>\n",
       "      <td>False</td>\n",
       "      <td>False</td>\n",
       "      <td>False</td>\n",
       "      <td>2021-06-15 20:19:35</td>\n",
       "      <td>Free</td>\n",
       "    </tr>\n",
       "    <tr>\n",
       "      <th>1</th>\n",
       "      <td>Ampere Battery Info</td>\n",
       "      <td>com.webserveis.batteryinfo</td>\n",
       "      <td>Tools</td>\n",
       "      <td>4.4</td>\n",
       "      <td>64.0</td>\n",
       "      <td>5000</td>\n",
       "      <td>5000.0</td>\n",
       "      <td>7662</td>\n",
       "      <td>0.0</td>\n",
       "      <td>USD</td>\n",
       "      <td>2.9</td>\n",
       "      <td>5.0 and up</td>\n",
       "      <td>Webserveis</td>\n",
       "      <td>webserveis@gmail.com</td>\n",
       "      <td>May 21, 2020</td>\n",
       "      <td>May 06, 2021</td>\n",
       "      <td>Everyone</td>\n",
       "      <td>True</td>\n",
       "      <td>False</td>\n",
       "      <td>False</td>\n",
       "      <td>2021-06-15 20:19:35</td>\n",
       "      <td>Free</td>\n",
       "    </tr>\n",
       "  </tbody>\n",
       "</table>\n",
       "</div>"
      ],
      "text/plain": [
       "              App Name                      App Id   Category  Rating  \\\n",
       "0              Gakondo         com.ishakwe.gakondo  Adventure     0.0   \n",
       "1  Ampere Battery Info  com.webserveis.batteryinfo      Tools     4.4   \n",
       "\n",
       "   Rating Count  Installs  Minimum Installs  Maximum Installs  Price Currency  \\\n",
       "0           0.0        10              10.0                15    0.0      USD   \n",
       "1          64.0      5000            5000.0              7662    0.0      USD   \n",
       "\n",
       "   Size Minimum Android                       Developer Id  \\\n",
       "0  10.0      7.1 and up  Jean Confident Irénée NIYIZIBYOSE   \n",
       "1   2.9      5.0 and up                         Webserveis   \n",
       "\n",
       "          Developer Email      Released  Last Updated Content Rating  \\\n",
       "0  jean21101999@gmail.com  Feb 26, 2020  Feb 26, 2020       Everyone   \n",
       "1    webserveis@gmail.com  May 21, 2020  May 06, 2021       Everyone   \n",
       "\n",
       "   Ad Supported  In App Purchases  Editors Choice         Scraped Time  Type  \n",
       "0         False             False           False  2021-06-15 20:19:35  Free  \n",
       "1          True             False           False  2021-06-15 20:19:35  Free  "
      ]
     },
     "execution_count": 37,
     "metadata": {},
     "output_type": "execute_result"
    }
   ],
   "source": [
    "df.head(2)"
   ]
  },
  {
   "cell_type": "markdown",
   "id": "23a764de",
   "metadata": {},
   "source": [
    "### Replace Content Rating"
   ]
  },
  {
   "cell_type": "code",
   "execution_count": 40,
   "id": "66e9f9cb",
   "metadata": {},
   "outputs": [
    {
     "data": {
      "text/plain": [
       "array(['Everyone', 'Teen', 'Mature 17+', 'Everyone 10+',\n",
       "       'Adults only 18+', 'Unrated'], dtype=object)"
      ]
     },
     "execution_count": 40,
     "metadata": {},
     "output_type": "execute_result"
    }
   ],
   "source": [
    "df['Content Rating'].unique()"
   ]
  },
  {
   "cell_type": "markdown",
   "id": "c305123d",
   "metadata": {},
   "source": [
    "we have varies Categories in the content Rating column :\n",
    "#####  *Everyone\n",
    "##### *Teen\n",
    "##### *Mature \n",
    "##### *Everyone \n",
    "##### *Unrated\n",
    "##### *Adults only"
   ]
  },
  {
   "cell_type": "markdown",
   "id": "3e597299",
   "metadata": {},
   "source": [
    "Now, we makes this Categories to a simple 3 Categories for better understanding :\n",
    "Everyone, Teen, Adults\n",
    "\n",
    "Mature 17+  to Adults\n",
    "\n",
    "Everyone 10+  to Teen\n",
    "\n",
    "Unrated  to Everyone\n",
    "\n",
    "Adults only 18+  to Adults"
   ]
  },
  {
   "cell_type": "code",
   "execution_count": 41,
   "id": "f0e086bf",
   "metadata": {},
   "outputs": [],
   "source": [
    "df[\"Content Rating\"]=df[\"Content Rating\"].replace(\"Unrated\",\"Everyone\")\n",
    "df[\"Content Rating\"]=df[\"Content Rating\"].replace(\"Everyone 10+\",\"Teen\")\n",
    "df[\"Content Rating\"]=df[\"Content Rating\"].replace(\"Mature 17+\",\"Adults\")\n",
    "df[\"Content Rating\"]=df[\"Content Rating\"].replace(\"Adults only 18+\",\"Adults\")"
   ]
  },
  {
   "cell_type": "code",
   "execution_count": 42,
   "id": "3ed9568e",
   "metadata": {},
   "outputs": [
    {
     "data": {
      "text/plain": [
       "array(['Everyone', 'Teen', 'Adults'], dtype=object)"
      ]
     },
     "execution_count": 42,
     "metadata": {},
     "output_type": "execute_result"
    }
   ],
   "source": [
    "df['Content Rating'].unique()\n"
   ]
  },
  {
   "cell_type": "code",
   "execution_count": 43,
   "id": "7dfb7cb3",
   "metadata": {},
   "outputs": [
    {
     "name": "stdout",
     "output_type": "stream",
     "text": [
      "<class 'pandas.core.frame.DataFrame'>\n",
      "Int64Index: 2312548 entries, 0 to 2312943\n",
      "Data columns (total 22 columns):\n",
      " #   Column            Dtype  \n",
      "---  ------            -----  \n",
      " 0   App Name          object \n",
      " 1   App Id            object \n",
      " 2   Category          object \n",
      " 3   Rating            float64\n",
      " 4   Rating Count      float64\n",
      " 5   Installs          int64  \n",
      " 6   Minimum Installs  float64\n",
      " 7   Maximum Installs  int64  \n",
      " 8   Price             float64\n",
      " 9   Currency          object \n",
      " 10  Size              float64\n",
      " 11  Minimum Android   object \n",
      " 12  Developer Id      object \n",
      " 13  Developer Email   object \n",
      " 14  Released          object \n",
      " 15  Last Updated      object \n",
      " 16  Content Rating    object \n",
      " 17  Ad Supported      bool   \n",
      " 18  In App Purchases  bool   \n",
      " 19  Editors Choice    bool   \n",
      " 20  Scraped Time      object \n",
      " 21  Type              object \n",
      "dtypes: bool(3), float64(5), int64(2), object(12)\n",
      "memory usage: 359.5+ MB\n"
     ]
    }
   ],
   "source": [
    "df.info()\n"
   ]
  },
  {
   "cell_type": "markdown",
   "id": "3498ca96",
   "metadata": {},
   "source": [
    "### add Rating Type column "
   ]
  },
  {
   "cell_type": "code",
   "execution_count": 44,
   "id": "ea471b7b",
   "metadata": {},
   "outputs": [
    {
     "data": {
      "text/plain": [
       "Less than 10K           1192801\n",
       "NoRatingProvided        1082303\n",
       "Between 10K and 500K      35779\n",
       "More than 500K             1665\n",
       "Name: Rating Type, dtype: int64"
      ]
     },
     "execution_count": 44,
     "metadata": {},
     "output_type": "execute_result"
    }
   ],
   "source": [
    "df['Rating Type'] = 'NoRatingProvided'\n",
    "df.loc[(df['Rating Count'] > 0) & (df['Rating Count'] <= 10000.0),'Rating Type'] = 'Less than 10K'\n",
    "df.loc[(df['Rating Count'] > 10000) & (df['Rating Count'] <= 500000.0),'Rating Type'] = 'Between 10K and 500K'\n",
    "df.loc[(df['Rating Count'] > 500000) & (df['Rating Count'] <= 138557570.0),'Rating Type'] = 'More than 500K'\n",
    "df['Rating Type'].value_counts()"
   ]
  },
  {
   "cell_type": "code",
   "execution_count": 45,
   "id": "abddccb3",
   "metadata": {},
   "outputs": [
    {
     "data": {
      "text/plain": [
       "0              NoRatingProvided\n",
       "1                 Less than 10K\n",
       "2              NoRatingProvided\n",
       "3                 Less than 10K\n",
       "4              NoRatingProvided\n",
       "                   ...         \n",
       "2312939    Between 10K and 500K\n",
       "2312940        NoRatingProvided\n",
       "2312941        NoRatingProvided\n",
       "2312942           Less than 10K\n",
       "2312943           Less than 10K\n",
       "Name: Rating Type, Length: 2312548, dtype: object"
      ]
     },
     "execution_count": 45,
     "metadata": {},
     "output_type": "execute_result"
    }
   ],
   "source": [
    "df['Rating Type']"
   ]
  },
  {
   "cell_type": "markdown",
   "id": "389ac776",
   "metadata": {},
   "source": [
    "# Question and Aswers :\n",
    "1.What are the top 10 Categories that are installed from the Google Play Store ?\n",
    "\n",
    "2.Which are the Categories that are getting installed the most in top 10 Categories?\n",
    "\n",
    "3.What is the higest rated Category ?\n",
    "\n",
    "4.Which Category has the highest Paid and Free apps ?\n",
    "\n",
    "5.How does the size of the Application impacts the Installation ?\n",
    "\n",
    "6.What are the Top 5 Paid Apps based With highest ratings and installs ?\n",
    "\n",
    "7.What are the Top 5 Free Apps based With highest ratings and installs ?"
   ]
  },
  {
   "cell_type": "markdown",
   "id": "c2696d62",
   "metadata": {},
   "source": [
    "### 1.What are the top 10 Categories that are installed from the Google Play Store ?\n"
   ]
  },
  {
   "cell_type": "code",
   "execution_count": 47,
   "id": "c39798c4",
   "metadata": {},
   "outputs": [
    {
     "data": {
      "text/html": [
       "<div>\n",
       "<style scoped>\n",
       "    .dataframe tbody tr th:only-of-type {\n",
       "        vertical-align: middle;\n",
       "    }\n",
       "\n",
       "    .dataframe tbody tr th {\n",
       "        vertical-align: top;\n",
       "    }\n",
       "\n",
       "    .dataframe thead th {\n",
       "        text-align: right;\n",
       "    }\n",
       "</style>\n",
       "<table border=\"1\" class=\"dataframe\">\n",
       "  <thead>\n",
       "    <tr style=\"text-align: right;\">\n",
       "      <th></th>\n",
       "      <th>App Name</th>\n",
       "      <th>App Id</th>\n",
       "      <th>Category</th>\n",
       "      <th>Rating</th>\n",
       "      <th>Rating Count</th>\n",
       "      <th>Installs</th>\n",
       "      <th>Minimum Installs</th>\n",
       "      <th>Maximum Installs</th>\n",
       "      <th>Price</th>\n",
       "      <th>Currency</th>\n",
       "      <th>Size</th>\n",
       "      <th>Minimum Android</th>\n",
       "      <th>Developer Id</th>\n",
       "      <th>Developer Email</th>\n",
       "      <th>Released</th>\n",
       "      <th>Last Updated</th>\n",
       "      <th>Content Rating</th>\n",
       "      <th>Ad Supported</th>\n",
       "      <th>In App Purchases</th>\n",
       "      <th>Editors Choice</th>\n",
       "      <th>Scraped Time</th>\n",
       "      <th>Type</th>\n",
       "      <th>Rating Type</th>\n",
       "    </tr>\n",
       "  </thead>\n",
       "  <tbody>\n",
       "    <tr>\n",
       "      <th>0</th>\n",
       "      <td>Gakondo</td>\n",
       "      <td>com.ishakwe.gakondo</td>\n",
       "      <td>Adventure</td>\n",
       "      <td>0.0</td>\n",
       "      <td>0.0</td>\n",
       "      <td>10</td>\n",
       "      <td>10.0</td>\n",
       "      <td>15</td>\n",
       "      <td>0.0</td>\n",
       "      <td>USD</td>\n",
       "      <td>10.0</td>\n",
       "      <td>7.1 and up</td>\n",
       "      <td>Jean Confident Irénée NIYIZIBYOSE</td>\n",
       "      <td>jean21101999@gmail.com</td>\n",
       "      <td>Feb 26, 2020</td>\n",
       "      <td>Feb 26, 2020</td>\n",
       "      <td>Everyone</td>\n",
       "      <td>False</td>\n",
       "      <td>False</td>\n",
       "      <td>False</td>\n",
       "      <td>2021-06-15 20:19:35</td>\n",
       "      <td>Free</td>\n",
       "      <td>NoRatingProvided</td>\n",
       "    </tr>\n",
       "    <tr>\n",
       "      <th>1</th>\n",
       "      <td>Ampere Battery Info</td>\n",
       "      <td>com.webserveis.batteryinfo</td>\n",
       "      <td>Tools</td>\n",
       "      <td>4.4</td>\n",
       "      <td>64.0</td>\n",
       "      <td>5000</td>\n",
       "      <td>5000.0</td>\n",
       "      <td>7662</td>\n",
       "      <td>0.0</td>\n",
       "      <td>USD</td>\n",
       "      <td>2.9</td>\n",
       "      <td>5.0 and up</td>\n",
       "      <td>Webserveis</td>\n",
       "      <td>webserveis@gmail.com</td>\n",
       "      <td>May 21, 2020</td>\n",
       "      <td>May 06, 2021</td>\n",
       "      <td>Everyone</td>\n",
       "      <td>True</td>\n",
       "      <td>False</td>\n",
       "      <td>False</td>\n",
       "      <td>2021-06-15 20:19:35</td>\n",
       "      <td>Free</td>\n",
       "      <td>Less than 10K</td>\n",
       "    </tr>\n",
       "    <tr>\n",
       "      <th>2</th>\n",
       "      <td>Vibook</td>\n",
       "      <td>com.doantiepvien.crm</td>\n",
       "      <td>Productivity</td>\n",
       "      <td>0.0</td>\n",
       "      <td>0.0</td>\n",
       "      <td>50</td>\n",
       "      <td>50.0</td>\n",
       "      <td>58</td>\n",
       "      <td>0.0</td>\n",
       "      <td>USD</td>\n",
       "      <td>3.7</td>\n",
       "      <td>4.0.3 and up</td>\n",
       "      <td>Cabin Crew</td>\n",
       "      <td>vnacrewit@gmail.com</td>\n",
       "      <td>Aug 9, 2019</td>\n",
       "      <td>Aug 19, 2019</td>\n",
       "      <td>Everyone</td>\n",
       "      <td>False</td>\n",
       "      <td>False</td>\n",
       "      <td>False</td>\n",
       "      <td>2021-06-15 20:19:35</td>\n",
       "      <td>Free</td>\n",
       "      <td>NoRatingProvided</td>\n",
       "    </tr>\n",
       "  </tbody>\n",
       "</table>\n",
       "</div>"
      ],
      "text/plain": [
       "              App Name                      App Id      Category  Rating  \\\n",
       "0              Gakondo         com.ishakwe.gakondo     Adventure     0.0   \n",
       "1  Ampere Battery Info  com.webserveis.batteryinfo         Tools     4.4   \n",
       "2               Vibook        com.doantiepvien.crm  Productivity     0.0   \n",
       "\n",
       "   Rating Count  Installs  Minimum Installs  Maximum Installs  Price Currency  \\\n",
       "0           0.0        10              10.0                15    0.0      USD   \n",
       "1          64.0      5000            5000.0              7662    0.0      USD   \n",
       "2           0.0        50              50.0                58    0.0      USD   \n",
       "\n",
       "   Size Minimum Android                       Developer Id  \\\n",
       "0  10.0      7.1 and up  Jean Confident Irénée NIYIZIBYOSE   \n",
       "1   2.9      5.0 and up                         Webserveis   \n",
       "2   3.7    4.0.3 and up                         Cabin Crew   \n",
       "\n",
       "          Developer Email      Released  Last Updated Content Rating  \\\n",
       "0  jean21101999@gmail.com  Feb 26, 2020  Feb 26, 2020       Everyone   \n",
       "1    webserveis@gmail.com  May 21, 2020  May 06, 2021       Everyone   \n",
       "2     vnacrewit@gmail.com   Aug 9, 2019  Aug 19, 2019       Everyone   \n",
       "\n",
       "   Ad Supported  In App Purchases  Editors Choice         Scraped Time  Type  \\\n",
       "0         False             False           False  2021-06-15 20:19:35  Free   \n",
       "1          True             False           False  2021-06-15 20:19:35  Free   \n",
       "2         False             False           False  2021-06-15 20:19:35  Free   \n",
       "\n",
       "        Rating Type  \n",
       "0  NoRatingProvided  \n",
       "1     Less than 10K  \n",
       "2  NoRatingProvided  "
      ]
     },
     "execution_count": 47,
     "metadata": {},
     "output_type": "execute_result"
    }
   ],
   "source": [
    "df.head(3)"
   ]
  },
  {
   "cell_type": "code",
   "execution_count": 77,
   "id": "e55cb288",
   "metadata": {},
   "outputs": [
    {
     "data": {
      "text/html": [
       "<div>\n",
       "<style scoped>\n",
       "    .dataframe tbody tr th:only-of-type {\n",
       "        vertical-align: middle;\n",
       "    }\n",
       "\n",
       "    .dataframe tbody tr th {\n",
       "        vertical-align: top;\n",
       "    }\n",
       "\n",
       "    .dataframe thead th {\n",
       "        text-align: right;\n",
       "    }\n",
       "</style>\n",
       "<table border=\"1\" class=\"dataframe\">\n",
       "  <thead>\n",
       "    <tr style=\"text-align: right;\">\n",
       "      <th></th>\n",
       "      <th>Category</th>\n",
       "      <th>Count</th>\n",
       "    </tr>\n",
       "  </thead>\n",
       "  <tbody>\n",
       "    <tr>\n",
       "      <th>0</th>\n",
       "      <td>Education</td>\n",
       "      <td>241068</td>\n",
       "    </tr>\n",
       "    <tr>\n",
       "      <th>1</th>\n",
       "      <td>Music &amp; Audio</td>\n",
       "      <td>154897</td>\n",
       "    </tr>\n",
       "    <tr>\n",
       "      <th>2</th>\n",
       "      <td>Tools</td>\n",
       "      <td>143971</td>\n",
       "    </tr>\n",
       "    <tr>\n",
       "      <th>3</th>\n",
       "      <td>Business</td>\n",
       "      <td>143749</td>\n",
       "    </tr>\n",
       "    <tr>\n",
       "      <th>4</th>\n",
       "      <td>Entertainment</td>\n",
       "      <td>138261</td>\n",
       "    </tr>\n",
       "    <tr>\n",
       "      <th>5</th>\n",
       "      <td>Lifestyle</td>\n",
       "      <td>118321</td>\n",
       "    </tr>\n",
       "    <tr>\n",
       "      <th>6</th>\n",
       "      <td>Books &amp; Reference</td>\n",
       "      <td>116716</td>\n",
       "    </tr>\n",
       "    <tr>\n",
       "      <th>7</th>\n",
       "      <td>Personalization</td>\n",
       "      <td>89207</td>\n",
       "    </tr>\n",
       "    <tr>\n",
       "      <th>8</th>\n",
       "      <td>Health &amp; Fitness</td>\n",
       "      <td>83497</td>\n",
       "    </tr>\n",
       "    <tr>\n",
       "      <th>9</th>\n",
       "      <td>Productivity</td>\n",
       "      <td>79681</td>\n",
       "    </tr>\n",
       "    <tr>\n",
       "      <th>10</th>\n",
       "      <td>Shopping</td>\n",
       "      <td>75240</td>\n",
       "    </tr>\n",
       "    <tr>\n",
       "      <th>11</th>\n",
       "      <td>Food &amp; Drink</td>\n",
       "      <td>73918</td>\n",
       "    </tr>\n",
       "    <tr>\n",
       "      <th>12</th>\n",
       "      <td>Travel &amp; Local</td>\n",
       "      <td>67279</td>\n",
       "    </tr>\n",
       "    <tr>\n",
       "      <th>13</th>\n",
       "      <td>Finance</td>\n",
       "      <td>65450</td>\n",
       "    </tr>\n",
       "    <tr>\n",
       "      <th>14</th>\n",
       "      <td>Arcade</td>\n",
       "      <td>53779</td>\n",
       "    </tr>\n",
       "    <tr>\n",
       "      <th>15</th>\n",
       "      <td>Puzzle</td>\n",
       "      <td>51151</td>\n",
       "    </tr>\n",
       "    <tr>\n",
       "      <th>16</th>\n",
       "      <td>Casual</td>\n",
       "      <td>50790</td>\n",
       "    </tr>\n",
       "    <tr>\n",
       "      <th>17</th>\n",
       "      <td>Communication</td>\n",
       "      <td>48157</td>\n",
       "    </tr>\n",
       "    <tr>\n",
       "      <th>18</th>\n",
       "      <td>Sports</td>\n",
       "      <td>47473</td>\n",
       "    </tr>\n",
       "    <tr>\n",
       "      <th>19</th>\n",
       "      <td>Social</td>\n",
       "      <td>44724</td>\n",
       "    </tr>\n",
       "    <tr>\n",
       "      <th>20</th>\n",
       "      <td>News &amp; Magazines</td>\n",
       "      <td>42799</td>\n",
       "    </tr>\n",
       "    <tr>\n",
       "      <th>21</th>\n",
       "      <td>Photography</td>\n",
       "      <td>35552</td>\n",
       "    </tr>\n",
       "    <tr>\n",
       "      <th>22</th>\n",
       "      <td>Medical</td>\n",
       "      <td>32063</td>\n",
       "    </tr>\n",
       "    <tr>\n",
       "      <th>23</th>\n",
       "      <td>Action</td>\n",
       "      <td>27539</td>\n",
       "    </tr>\n",
       "    <tr>\n",
       "      <th>24</th>\n",
       "      <td>Maps &amp; Navigation</td>\n",
       "      <td>26721</td>\n",
       "    </tr>\n",
       "    <tr>\n",
       "      <th>25</th>\n",
       "      <td>Simulation</td>\n",
       "      <td>23268</td>\n",
       "    </tr>\n",
       "    <tr>\n",
       "      <th>26</th>\n",
       "      <td>Adventure</td>\n",
       "      <td>23193</td>\n",
       "    </tr>\n",
       "    <tr>\n",
       "      <th>27</th>\n",
       "      <td>Educational</td>\n",
       "      <td>21302</td>\n",
       "    </tr>\n",
       "    <tr>\n",
       "      <th>28</th>\n",
       "      <td>Art &amp; Design</td>\n",
       "      <td>18536</td>\n",
       "    </tr>\n",
       "    <tr>\n",
       "      <th>29</th>\n",
       "      <td>Auto &amp; Vehicles</td>\n",
       "      <td>18276</td>\n",
       "    </tr>\n",
       "    <tr>\n",
       "      <th>30</th>\n",
       "      <td>House &amp; Home</td>\n",
       "      <td>14368</td>\n",
       "    </tr>\n",
       "    <tr>\n",
       "      <th>31</th>\n",
       "      <td>Video Players &amp; Editors</td>\n",
       "      <td>14014</td>\n",
       "    </tr>\n",
       "    <tr>\n",
       "      <th>32</th>\n",
       "      <td>Events</td>\n",
       "      <td>12839</td>\n",
       "    </tr>\n",
       "    <tr>\n",
       "      <th>33</th>\n",
       "      <td>Trivia</td>\n",
       "      <td>11793</td>\n",
       "    </tr>\n",
       "    <tr>\n",
       "      <th>34</th>\n",
       "      <td>Beauty</td>\n",
       "      <td>11771</td>\n",
       "    </tr>\n",
       "    <tr>\n",
       "      <th>35</th>\n",
       "      <td>Board</td>\n",
       "      <td>10587</td>\n",
       "    </tr>\n",
       "    <tr>\n",
       "      <th>36</th>\n",
       "      <td>Racing</td>\n",
       "      <td>10360</td>\n",
       "    </tr>\n",
       "    <tr>\n",
       "      <th>37</th>\n",
       "      <td>Role Playing</td>\n",
       "      <td>10008</td>\n",
       "    </tr>\n",
       "    <tr>\n",
       "      <th>38</th>\n",
       "      <td>Word</td>\n",
       "      <td>8627</td>\n",
       "    </tr>\n",
       "    <tr>\n",
       "      <th>39</th>\n",
       "      <td>Strategy</td>\n",
       "      <td>8517</td>\n",
       "    </tr>\n",
       "    <tr>\n",
       "      <th>40</th>\n",
       "      <td>Card</td>\n",
       "      <td>8175</td>\n",
       "    </tr>\n",
       "    <tr>\n",
       "      <th>41</th>\n",
       "      <td>Weather</td>\n",
       "      <td>7244</td>\n",
       "    </tr>\n",
       "    <tr>\n",
       "      <th>42</th>\n",
       "      <td>Dating</td>\n",
       "      <td>6522</td>\n",
       "    </tr>\n",
       "    <tr>\n",
       "      <th>43</th>\n",
       "      <td>Libraries &amp; Demo</td>\n",
       "      <td>5196</td>\n",
       "    </tr>\n",
       "    <tr>\n",
       "      <th>44</th>\n",
       "      <td>Casino</td>\n",
       "      <td>5076</td>\n",
       "    </tr>\n",
       "    <tr>\n",
       "      <th>45</th>\n",
       "      <td>Music</td>\n",
       "      <td>4201</td>\n",
       "    </tr>\n",
       "    <tr>\n",
       "      <th>46</th>\n",
       "      <td>Parenting</td>\n",
       "      <td>3810</td>\n",
       "    </tr>\n",
       "    <tr>\n",
       "      <th>47</th>\n",
       "      <td>Comics</td>\n",
       "      <td>2862</td>\n",
       "    </tr>\n",
       "  </tbody>\n",
       "</table>\n",
       "</div>"
      ],
      "text/plain": [
       "                   Category   Count\n",
       "0                 Education  241068\n",
       "1             Music & Audio  154897\n",
       "2                     Tools  143971\n",
       "3                  Business  143749\n",
       "4             Entertainment  138261\n",
       "5                 Lifestyle  118321\n",
       "6         Books & Reference  116716\n",
       "7           Personalization   89207\n",
       "8          Health & Fitness   83497\n",
       "9              Productivity   79681\n",
       "10                 Shopping   75240\n",
       "11             Food & Drink   73918\n",
       "12           Travel & Local   67279\n",
       "13                  Finance   65450\n",
       "14                   Arcade   53779\n",
       "15                   Puzzle   51151\n",
       "16                   Casual   50790\n",
       "17            Communication   48157\n",
       "18                   Sports   47473\n",
       "19                   Social   44724\n",
       "20         News & Magazines   42799\n",
       "21              Photography   35552\n",
       "22                  Medical   32063\n",
       "23                   Action   27539\n",
       "24        Maps & Navigation   26721\n",
       "25               Simulation   23268\n",
       "26                Adventure   23193\n",
       "27              Educational   21302\n",
       "28             Art & Design   18536\n",
       "29          Auto & Vehicles   18276\n",
       "30             House & Home   14368\n",
       "31  Video Players & Editors   14014\n",
       "32                   Events   12839\n",
       "33                   Trivia   11793\n",
       "34                   Beauty   11771\n",
       "35                    Board   10587\n",
       "36                   Racing   10360\n",
       "37             Role Playing   10008\n",
       "38                     Word    8627\n",
       "39                 Strategy    8517\n",
       "40                     Card    8175\n",
       "41                  Weather    7244\n",
       "42                   Dating    6522\n",
       "43         Libraries & Demo    5196\n",
       "44                   Casino    5076\n",
       "45                    Music    4201\n",
       "46                Parenting    3810\n",
       "47                   Comics    2862"
      ]
     },
     "execution_count": 77,
     "metadata": {},
     "output_type": "execute_result"
    }
   ],
   "source": [
    "top_Category=df['Category'].value_counts().reset_index().rename(columns={'Category':'Count','index':'Category'})\n",
    "top_Category"
   ]
  },
  {
   "cell_type": "code",
   "execution_count": 78,
   "id": "d0168325",
   "metadata": {},
   "outputs": [
    {
     "data": {
      "text/html": [
       "<div>\n",
       "<style scoped>\n",
       "    .dataframe tbody tr th:only-of-type {\n",
       "        vertical-align: middle;\n",
       "    }\n",
       "\n",
       "    .dataframe tbody tr th {\n",
       "        vertical-align: top;\n",
       "    }\n",
       "\n",
       "    .dataframe thead th {\n",
       "        text-align: right;\n",
       "    }\n",
       "</style>\n",
       "<table border=\"1\" class=\"dataframe\">\n",
       "  <thead>\n",
       "    <tr style=\"text-align: right;\">\n",
       "      <th></th>\n",
       "      <th>Installs</th>\n",
       "    </tr>\n",
       "    <tr>\n",
       "      <th>Category</th>\n",
       "      <th></th>\n",
       "    </tr>\n",
       "  </thead>\n",
       "  <tbody>\n",
       "    <tr>\n",
       "      <th>Action</th>\n",
       "      <td>17399855328</td>\n",
       "    </tr>\n",
       "    <tr>\n",
       "      <th>Adventure</th>\n",
       "      <td>5390108856</td>\n",
       "    </tr>\n",
       "    <tr>\n",
       "      <th>Arcade</th>\n",
       "      <td>14501230855</td>\n",
       "    </tr>\n",
       "    <tr>\n",
       "      <th>Art &amp; Design</th>\n",
       "      <td>1116398902</td>\n",
       "    </tr>\n",
       "    <tr>\n",
       "      <th>Auto &amp; Vehicles</th>\n",
       "      <td>1594745418</td>\n",
       "    </tr>\n",
       "    <tr>\n",
       "      <th>Beauty</th>\n",
       "      <td>404328787</td>\n",
       "    </tr>\n",
       "    <tr>\n",
       "      <th>Board</th>\n",
       "      <td>3290826164</td>\n",
       "    </tr>\n",
       "    <tr>\n",
       "      <th>Books &amp; Reference</th>\n",
       "      <td>4819175179</td>\n",
       "    </tr>\n",
       "    <tr>\n",
       "      <th>Business</th>\n",
       "      <td>5236661902</td>\n",
       "    </tr>\n",
       "    <tr>\n",
       "      <th>Card</th>\n",
       "      <td>1989318718</td>\n",
       "    </tr>\n",
       "    <tr>\n",
       "      <th>Casino</th>\n",
       "      <td>1249613989</td>\n",
       "    </tr>\n",
       "    <tr>\n",
       "      <th>Casual</th>\n",
       "      <td>16836783725</td>\n",
       "    </tr>\n",
       "    <tr>\n",
       "      <th>Comics</th>\n",
       "      <td>397602344</td>\n",
       "    </tr>\n",
       "    <tr>\n",
       "      <th>Communication</th>\n",
       "      <td>43216592414</td>\n",
       "    </tr>\n",
       "    <tr>\n",
       "      <th>Dating</th>\n",
       "      <td>643267317</td>\n",
       "    </tr>\n",
       "    <tr>\n",
       "      <th>Education</th>\n",
       "      <td>5983815847</td>\n",
       "    </tr>\n",
       "    <tr>\n",
       "      <th>Educational</th>\n",
       "      <td>4730801093</td>\n",
       "    </tr>\n",
       "    <tr>\n",
       "      <th>Entertainment</th>\n",
       "      <td>17108397933</td>\n",
       "    </tr>\n",
       "    <tr>\n",
       "      <th>Events</th>\n",
       "      <td>73016139</td>\n",
       "    </tr>\n",
       "    <tr>\n",
       "      <th>Finance</th>\n",
       "      <td>6158477105</td>\n",
       "    </tr>\n",
       "    <tr>\n",
       "      <th>Food &amp; Drink</th>\n",
       "      <td>1623441588</td>\n",
       "    </tr>\n",
       "    <tr>\n",
       "      <th>Health &amp; Fitness</th>\n",
       "      <td>4586600201</td>\n",
       "    </tr>\n",
       "    <tr>\n",
       "      <th>House &amp; Home</th>\n",
       "      <td>463801748</td>\n",
       "    </tr>\n",
       "    <tr>\n",
       "      <th>Libraries &amp; Demo</th>\n",
       "      <td>289118035</td>\n",
       "    </tr>\n",
       "    <tr>\n",
       "      <th>Lifestyle</th>\n",
       "      <td>5997921096</td>\n",
       "    </tr>\n",
       "    <tr>\n",
       "      <th>Maps &amp; Navigation</th>\n",
       "      <td>2683038830</td>\n",
       "    </tr>\n",
       "    <tr>\n",
       "      <th>Medical</th>\n",
       "      <td>657119650</td>\n",
       "    </tr>\n",
       "    <tr>\n",
       "      <th>Music</th>\n",
       "      <td>1630600862</td>\n",
       "    </tr>\n",
       "    <tr>\n",
       "      <th>Music &amp; Audio</th>\n",
       "      <td>14239401798</td>\n",
       "    </tr>\n",
       "    <tr>\n",
       "      <th>News &amp; Magazines</th>\n",
       "      <td>4548786357</td>\n",
       "    </tr>\n",
       "    <tr>\n",
       "      <th>Parenting</th>\n",
       "      <td>244133966</td>\n",
       "    </tr>\n",
       "    <tr>\n",
       "      <th>Personalization</th>\n",
       "      <td>9252971243</td>\n",
       "    </tr>\n",
       "    <tr>\n",
       "      <th>Photography</th>\n",
       "      <td>18998958963</td>\n",
       "    </tr>\n",
       "    <tr>\n",
       "      <th>Productivity</th>\n",
       "      <td>28313922253</td>\n",
       "    </tr>\n",
       "    <tr>\n",
       "      <th>Puzzle</th>\n",
       "      <td>10796411002</td>\n",
       "    </tr>\n",
       "    <tr>\n",
       "      <th>Racing</th>\n",
       "      <td>9208081547</td>\n",
       "    </tr>\n",
       "    <tr>\n",
       "      <th>Role Playing</th>\n",
       "      <td>4765977334</td>\n",
       "    </tr>\n",
       "    <tr>\n",
       "      <th>Shopping</th>\n",
       "      <td>7108586169</td>\n",
       "    </tr>\n",
       "    <tr>\n",
       "      <th>Simulation</th>\n",
       "      <td>11689990564</td>\n",
       "    </tr>\n",
       "    <tr>\n",
       "      <th>Social</th>\n",
       "      <td>17165994565</td>\n",
       "    </tr>\n",
       "    <tr>\n",
       "      <th>Sports</th>\n",
       "      <td>7954121388</td>\n",
       "    </tr>\n",
       "    <tr>\n",
       "      <th>Strategy</th>\n",
       "      <td>4156174163</td>\n",
       "    </tr>\n",
       "    <tr>\n",
       "      <th>Tools</th>\n",
       "      <td>71440271217</td>\n",
       "    </tr>\n",
       "    <tr>\n",
       "      <th>Travel &amp; Local</th>\n",
       "      <td>9726222850</td>\n",
       "    </tr>\n",
       "    <tr>\n",
       "      <th>Trivia</th>\n",
       "      <td>1188962483</td>\n",
       "    </tr>\n",
       "    <tr>\n",
       "      <th>Video Players &amp; Editors</th>\n",
       "      <td>18591154109</td>\n",
       "    </tr>\n",
       "    <tr>\n",
       "      <th>Weather</th>\n",
       "      <td>2773800062</td>\n",
       "    </tr>\n",
       "    <tr>\n",
       "      <th>Word</th>\n",
       "      <td>2029143957</td>\n",
       "    </tr>\n",
       "  </tbody>\n",
       "</table>\n",
       "</div>"
      ],
      "text/plain": [
       "                            Installs\n",
       "Category                            \n",
       "Action                   17399855328\n",
       "Adventure                 5390108856\n",
       "Arcade                   14501230855\n",
       "Art & Design              1116398902\n",
       "Auto & Vehicles           1594745418\n",
       "Beauty                     404328787\n",
       "Board                     3290826164\n",
       "Books & Reference         4819175179\n",
       "Business                  5236661902\n",
       "Card                      1989318718\n",
       "Casino                    1249613989\n",
       "Casual                   16836783725\n",
       "Comics                     397602344\n",
       "Communication            43216592414\n",
       "Dating                     643267317\n",
       "Education                 5983815847\n",
       "Educational               4730801093\n",
       "Entertainment            17108397933\n",
       "Events                      73016139\n",
       "Finance                   6158477105\n",
       "Food & Drink              1623441588\n",
       "Health & Fitness          4586600201\n",
       "House & Home               463801748\n",
       "Libraries & Demo           289118035\n",
       "Lifestyle                 5997921096\n",
       "Maps & Navigation         2683038830\n",
       "Medical                    657119650\n",
       "Music                     1630600862\n",
       "Music & Audio            14239401798\n",
       "News & Magazines          4548786357\n",
       "Parenting                  244133966\n",
       "Personalization           9252971243\n",
       "Photography              18998958963\n",
       "Productivity             28313922253\n",
       "Puzzle                   10796411002\n",
       "Racing                    9208081547\n",
       "Role Playing              4765977334\n",
       "Shopping                  7108586169\n",
       "Simulation               11689990564\n",
       "Social                   17165994565\n",
       "Sports                    7954121388\n",
       "Strategy                  4156174163\n",
       "Tools                    71440271217\n",
       "Travel & Local            9726222850\n",
       "Trivia                    1188962483\n",
       "Video Players & Editors  18591154109\n",
       "Weather                   2773800062\n",
       "Word                      2029143957"
      ]
     },
     "execution_count": 78,
     "metadata": {},
     "output_type": "execute_result"
    }
   ],
   "source": [
    "Category_installs = df.groupby(['Category'])[['Installs']].sum()\n",
    "Category_installs"
   ]
  },
  {
   "cell_type": "code",
   "execution_count": 80,
   "id": "86187075",
   "metadata": {},
   "outputs": [
    {
     "data": {
      "text/html": [
       "<div>\n",
       "<style scoped>\n",
       "    .dataframe tbody tr th:only-of-type {\n",
       "        vertical-align: middle;\n",
       "    }\n",
       "\n",
       "    .dataframe tbody tr th {\n",
       "        vertical-align: top;\n",
       "    }\n",
       "\n",
       "    .dataframe thead th {\n",
       "        text-align: right;\n",
       "    }\n",
       "</style>\n",
       "<table border=\"1\" class=\"dataframe\">\n",
       "  <thead>\n",
       "    <tr style=\"text-align: right;\">\n",
       "      <th></th>\n",
       "      <th>Category</th>\n",
       "      <th>Count</th>\n",
       "      <th>Installs</th>\n",
       "    </tr>\n",
       "  </thead>\n",
       "  <tbody>\n",
       "    <tr>\n",
       "      <th>0</th>\n",
       "      <td>Education</td>\n",
       "      <td>241068</td>\n",
       "      <td>5983815847</td>\n",
       "    </tr>\n",
       "    <tr>\n",
       "      <th>1</th>\n",
       "      <td>Music &amp; Audio</td>\n",
       "      <td>154897</td>\n",
       "      <td>14239401798</td>\n",
       "    </tr>\n",
       "    <tr>\n",
       "      <th>2</th>\n",
       "      <td>Tools</td>\n",
       "      <td>143971</td>\n",
       "      <td>71440271217</td>\n",
       "    </tr>\n",
       "    <tr>\n",
       "      <th>3</th>\n",
       "      <td>Business</td>\n",
       "      <td>143749</td>\n",
       "      <td>5236661902</td>\n",
       "    </tr>\n",
       "    <tr>\n",
       "      <th>4</th>\n",
       "      <td>Entertainment</td>\n",
       "      <td>138261</td>\n",
       "      <td>17108397933</td>\n",
       "    </tr>\n",
       "  </tbody>\n",
       "</table>\n",
       "</div>"
      ],
      "text/plain": [
       "        Category   Count     Installs\n",
       "0      Education  241068   5983815847\n",
       "1  Music & Audio  154897  14239401798\n",
       "2          Tools  143971  71440271217\n",
       "3       Business  143749   5236661902\n",
       "4  Entertainment  138261  17108397933"
      ]
     },
     "execution_count": 80,
     "metadata": {},
     "output_type": "execute_result"
    }
   ],
   "source": [
    "top_Category_installs = pd.merge(top_Category, Category_installs, on='Category')\n",
    "top_Category_installs.head(5)"
   ]
  },
  {
   "cell_type": "code",
   "execution_count": 81,
   "id": "d85558dc",
   "metadata": {},
   "outputs": [],
   "source": [
    "top_10_Categories_installs = top_Category_installs.head(10).sort_values(by = ['Installs'],ascending = False)"
   ]
  },
  {
   "cell_type": "markdown",
   "id": "8808bf31",
   "metadata": {},
   "source": [
    "# What are the 10 Categories in playstore as per the count?"
   ]
  },
  {
   "cell_type": "code",
   "execution_count": 82,
   "id": "e43af5b3",
   "metadata": {},
   "outputs": [
    {
     "data": {
      "text/plain": [
       "<AxesSubplot:title={'center':'Top 10 Categories'}, xlabel='Category', ylabel='Count'>"
      ]
     },
     "execution_count": 82,
     "metadata": {},
     "output_type": "execute_result"
    },
    {
     "data": {
      "image/png": "[encoded data removed]",
      "text/plain": [
       "<Figure size 1008x504 with 1 Axes>"
      ]
     },
     "metadata": {
      "needs_background": "light"
     },
     "output_type": "display_data"
    }
   ],
   "source": [
    "plt.figure(figsize=(14,7))\n",
    "plt.xticks(rotation=60)\n",
    "plt.xlabel(\"Category\")\n",
    "plt.ylabel(\"Number of applications\")\n",
    "plt.title(\"Top 10 Categories\")\n",
    "sns.barplot(x = top_10_Categories_installs.Category, y = top_10_Categories_installs.Count)"
   ]
  },
  {
   "cell_type": "markdown",
   "id": "b8248c8c",
   "metadata": {},
   "source": [
    "# What is the highest rated Category?\n"
   ]
  },
  {
   "cell_type": "code",
   "execution_count": 83,
   "id": "e86bb69b",
   "metadata": {},
   "outputs": [
    {
     "data": {
      "text/plain": [
       "<AxesSubplot:title={'center':'All Categories Rating '}, xlabel='Category', ylabel='Rating'>"
      ]
     },
     "execution_count": 83,
     "metadata": {},
     "output_type": "execute_result"
    },
    {
     "data": {
      "image/png": "[encoded data removed]",
      "text/plain": [
       "<Figure size 1008x504 with 1 Axes>"
      ]
     },
     "metadata": {
      "needs_background": "light"
     },
     "output_type": "display_data"
    }
   ],
   "source": [
    "plt.figure(figsize=(14,7))\n",
    "plt.xticks(rotation=90)\n",
    "plt.xlabel(\"Highest Rated Category\")\n",
    "plt.ylabel(\"Number of applications\")\n",
    "plt.title(\"All Categories Rating \")\n",
    "sns.barplot(x = df.Category,y = df.Rating)"
   ]
  },
  {
   "cell_type": "markdown",
   "id": "4aa925b3",
   "metadata": {},
   "source": [
    "# Which Category has the highest Paid and Free apps ?\n"
   ]
  },
  {
   "cell_type": "code",
   "execution_count": 85,
   "id": "7a218e3e",
   "metadata": {},
   "outputs": [],
   "source": [
    "app_count = df.groupby(['Category','Type'])[['App Name']].count().reset_index().rename(columns={'App Name':'Count','index':'App Name'})\n",
    "df_app_count = app_count.pivot('Category', 'Type', 'Count').fillna(0).reset_index()"
   ]
  },
  {
   "cell_type": "code",
   "execution_count": 86,
   "id": "86dee234",
   "metadata": {},
   "outputs": [
    {
     "data": {
      "text/plain": [
       "Text(0.5, 1.0, 'Free and Paid Apps in Category')"
      ]
     },
     "execution_count": 86,
     "metadata": {},
     "output_type": "execute_result"
    },
    {
     "data": {
      "image/png": "[encoded data removed]",
      "text/plain": [
       "<Figure size 1296x648 with 1 Axes>"
      ]
     },
     "metadata": {
      "needs_background": "light"
     },
     "output_type": "display_data"
    }
   ],
   "source": [
    "df_app_count.set_index('Category').plot(kind='bar', stacked=True, figsize=(18,9)) \n",
    "plt.xlabel(\"Category\", fontsize=15)\n",
    "plt.ylabel(\"Count\", fontsize=15)\n",
    "plt.title(\"Free and Paid Apps in Category\")"
   ]
  },
  {
   "cell_type": "markdown",
   "id": "77902b26",
   "metadata": {},
   "source": [
    "# How does the size of the Application impacts the Installation ?"
   ]
  },
  {
   "cell_type": "code",
   "execution_count": 88,
   "id": "dfcfbba6",
   "metadata": {},
   "outputs": [
    {
     "data": {
      "text/plain": [
       "<AxesSubplot:title={'center':'Impact of Application Size in Installation'}, xlabel='Size', ylabel='Installs'>"
      ]
     },
     "execution_count": 88,
     "metadata": {},
     "output_type": "execute_result"
    },
    {
     "data": {
      "image/png": "[encoded data removed]",
      "text/plain": [
       "<Figure size 1008x504 with 1 Axes>"
      ]
     },
     "metadata": {
      "needs_background": "light"
     },
     "output_type": "display_data"
    }
   ],
   "source": [
    "\n",
    "plt.figure(figsize=(14,7))\n",
    "plt.xlabel(\"Size\")\n",
    "plt.ylabel(\"Installs\")\n",
    "plt.title(\"Impact of Application Size in Installation\")\n",
    "sns.scatterplot(x = 'Size',y = 'Installs', hue='Type', data=df)"
   ]
  },
  {
   "cell_type": "markdown",
   "id": "bf38cda2",
   "metadata": {},
   "source": [
    "## What are the Top 5 Paid Apps based With highest ratings and installs ?\n"
   ]
  },
  {
   "cell_type": "code",
   "execution_count": 89,
   "id": "769ce79d",
   "metadata": {},
   "outputs": [],
   "source": [
    "paid_apps = df[(df.Type=='Paid') & (df.Installs >= 5000000)]\n",
    "paid_apps = paid_apps.groupby('App Name')['Rating'].max().sort_values(ascending = False)"
   ]
  },
  {
   "cell_type": "code",
   "execution_count": 90,
   "id": "d6c91e8e",
   "metadata": {},
   "outputs": [
    {
     "data": {
      "text/plain": [
       "<AxesSubplot:title={'center':'Top 5 Paid Rated Apps'}, xlabel='Rating', ylabel='App Name'>"
      ]
     },
     "execution_count": 90,
     "metadata": {},
     "output_type": "execute_result"
    },
    {
     "data": {
      "image/png": "[encoded data removed]",
      "text/plain": [
       "<Figure size 576x288 with 1 Axes>"
      ]
     },
     "metadata": {
      "needs_background": "light"
     },
     "output_type": "display_data"
    }
   ],
   "source": [
    "plt.figure(figsize=(8,4))\n",
    "plt.xlabel(\"Rating\")\n",
    "sns.set_theme(style=\"whitegrid\")\n",
    "plt.title(\"Top 5 Paid Rated Apps\")\n",
    "sns.lineplot(x=paid_apps.values,y=paid_apps.index,color='Blue')"
   ]
  },
  {
   "cell_type": "markdown",
   "id": "1cab64d4",
   "metadata": {},
   "source": [
    "# What are the Top 5 Free Apps based With highest ratings and installs ?\n"
   ]
  },
  {
   "cell_type": "code",
   "execution_count": 93,
   "id": "2186e802",
   "metadata": {},
   "outputs": [],
   "source": [
    "free_apps = df[(df.Type=='Free') & (df.Installs >= 5000000)]\n",
    "free_apps = free_apps.groupby('App Name')['Rating'].max().sort_values(ascending = False)\n",
    "free_apps = free_apps.head(5)"
   ]
  },
  {
   "cell_type": "code",
   "execution_count": 94,
   "id": "618df423",
   "metadata": {},
   "outputs": [
    {
     "data": {
      "text/plain": [
       "<AxesSubplot:title={'center':'Top 5 Free Rated Apps'}, xlabel='Rating', ylabel='App Name'>"
      ]
     },
     "execution_count": 94,
     "metadata": {},
     "output_type": "execute_result"
    },
    {
     "data": {
      "image/png": "[encoded data removed]",
      "text/plain": [
       "<Figure size 576x288 with 1 Axes>"
      ]
     },
     "metadata": {},
     "output_type": "display_data"
    }
   ],
   "source": [
    "plt.figure(figsize=(8,4))\n",
    "plt.xlabel(\"Rating\")\n",
    "sns.set_theme(style=\"whitegrid\")\n",
    "plt.title(\"Top 5 Free Rated Apps\")\n",
    "sns.lineplot(x = free_apps.values, y = free_apps.index,color = 'Blue')"
   ]
  },
  {
   "cell_type": "markdown",
   "id": "d3edd505",
   "metadata": {},
   "source": [
    "## Most of the Adults showing intrest"
   ]
  },
  {
   "cell_type": "code",
   "execution_count": 92,
   "id": "355d390f",
   "metadata": {},
   "outputs": [
    {
     "data": {
      "text/plain": [
       "Text(0.5, 1.0, 'Top 10 Max installations Category wise')"
      ]
     },
     "execution_count": 92,
     "metadata": {},
     "output_type": "execute_result"
    },
    {
     "data": {
      "image/png": "[encoded data removed]",
      "text/plain": [
       "<Figure size 576x432 with 1 Axes>"
      ]
     },
     "metadata": {},
     "output_type": "display_data"
    }
   ],
   "source": [
    "plt.figure(figsize=(8,6))\n",
    "data = df.groupby('Category')['Maximum Installs'].max().sort_values(ascending = True)\n",
    "data = data.head(10)\n",
    "labels = data.keys()\n",
    "plt.pie(data, labels= labels,autopct='%.0f%%') \n",
    "plt.title(\"Top 10 Max installations Category wise\", fontsize=14)"
   ]
  },
  {
   "cell_type": "code",
   "execution_count": null,
   "id": "0e2a2d2e",
   "metadata": {},
   "outputs": [],
   "source": []
  }
 ],
 "metadata": {
  "kernelspec": {
   "display_name": "Python 3 (ipykernel)",
   "language": "python",
   "name": "python3"
  },
  "language_info": {
   "codemirror_mode": {
    "name": "ipython",
    "version": 3
   },
   "file_extension": ".py",
   "mimetype": "text/x-python",
   "name": "python",
   "nbconvert_exporter": "python",
   "pygments_lexer": "ipython3",
   "version": "3.9.7"
  }
 },
 "nbformat": 4,
 "nbformat_minor": 5
}
