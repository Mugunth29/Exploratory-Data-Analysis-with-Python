{
 "cells": [
  {
   "cell_type": "markdown",
   "id": "27bc5688",
   "metadata": {},
   "source": [
    "# Exploratory data analysis (NETFLIX)"
   ]
  },
  {
   "cell_type": "markdown",
   "id": "fe974ab4",
   "metadata": {},
   "source": [
    "The Netflix dataset has information about the tv shows and movies available on netflix till 2021"
   ]
  },
  {
   "cell_type": "markdown",
   "id": "bc9c1824",
   "metadata": {},
   "source": [
    ","
   ]
  },
  {
   "cell_type": "markdown",
   "id": "fe3bf1c7",
   "metadata": {},
   "source": [
    "## Import libraries"
   ]
  },
  {
   "cell_type": "code",
   "execution_count": 3,
   "id": "5c03b486",
   "metadata": {},
   "outputs": [],
   "source": [
    "import pandas as pd\n",
    "import numpy as np\n",
    "import seaborn as sns\n",
    "import matplotlib.pyplot as plt"
   ]
  },
  {
   "cell_type": "markdown",
   "id": "48040e1f",
   "metadata": {},
   "source": [
    "## Read Csv files"
   ]
  },
  {
   "cell_type": "code",
   "execution_count": 30,
   "id": "9aa3dae8",
   "metadata": {
    "scrolled": true
   },
   "outputs": [
    {
     "data": {
      "text/html": [
       "<div>\n",
       "<style scoped>\n",
       "    .dataframe tbody tr th:only-of-type {\n",
       "        vertical-align: middle;\n",
       "    }\n",
       "\n",
       "    .dataframe tbody tr th {\n",
       "        vertical-align: top;\n",
       "    }\n",
       "\n",
       "    .dataframe thead th {\n",
       "        text-align: right;\n",
       "    }\n",
       "</style>\n",
       "<table border=\"1\" class=\"dataframe\">\n",
       "  <thead>\n",
       "    <tr style=\"text-align: right;\">\n",
       "      <th></th>\n",
       "      <th>Show_Id</th>\n",
       "      <th>Category</th>\n",
       "      <th>Title</th>\n",
       "      <th>Director</th>\n",
       "      <th>Cast</th>\n",
       "      <th>Country</th>\n",
       "      <th>Release_Date</th>\n",
       "      <th>Rating</th>\n",
       "      <th>Duration</th>\n",
       "      <th>Type</th>\n",
       "      <th>Description</th>\n",
       "    </tr>\n",
       "  </thead>\n",
       "  <tbody>\n",
       "    <tr>\n",
       "      <th>0</th>\n",
       "      <td>s1</td>\n",
       "      <td>TV Show</td>\n",
       "      <td>3%</td>\n",
       "      <td>NaN</td>\n",
       "      <td>João Miguel, Bianca Comparato, Michel Gomes, R...</td>\n",
       "      <td>Brazil</td>\n",
       "      <td>August 14, 2020</td>\n",
       "      <td>TV-MA</td>\n",
       "      <td>4 Seasons</td>\n",
       "      <td>International TV Shows, TV Dramas, TV Sci-Fi &amp;...</td>\n",
       "      <td>In a future where the elite inhabit an island ...</td>\n",
       "    </tr>\n",
       "    <tr>\n",
       "      <th>1</th>\n",
       "      <td>s2</td>\n",
       "      <td>Movie</td>\n",
       "      <td>07:19</td>\n",
       "      <td>Jorge Michel Grau</td>\n",
       "      <td>Demián Bichir, Héctor Bonilla, Oscar Serrano, ...</td>\n",
       "      <td>Mexico</td>\n",
       "      <td>December 23, 2016</td>\n",
       "      <td>TV-MA</td>\n",
       "      <td>93 min</td>\n",
       "      <td>Dramas, International Movies</td>\n",
       "      <td>After a devastating earthquake hits Mexico Cit...</td>\n",
       "    </tr>\n",
       "    <tr>\n",
       "      <th>2</th>\n",
       "      <td>s3</td>\n",
       "      <td>Movie</td>\n",
       "      <td>23:59</td>\n",
       "      <td>Gilbert Chan</td>\n",
       "      <td>Tedd Chan, Stella Chung, Henley Hii, Lawrence ...</td>\n",
       "      <td>Singapore</td>\n",
       "      <td>December 20, 2018</td>\n",
       "      <td>R</td>\n",
       "      <td>78 min</td>\n",
       "      <td>Horror Movies, International Movies</td>\n",
       "      <td>When an army recruit is found dead, his fellow...</td>\n",
       "    </tr>\n",
       "    <tr>\n",
       "      <th>3</th>\n",
       "      <td>s4</td>\n",
       "      <td>Movie</td>\n",
       "      <td>9</td>\n",
       "      <td>Shane Acker</td>\n",
       "      <td>Elijah Wood, John C. Reilly, Jennifer Connelly...</td>\n",
       "      <td>United States</td>\n",
       "      <td>November 16, 2017</td>\n",
       "      <td>PG-13</td>\n",
       "      <td>80 min</td>\n",
       "      <td>Action &amp; Adventure, Independent Movies, Sci-Fi...</td>\n",
       "      <td>In a postapocalyptic world, rag-doll robots hi...</td>\n",
       "    </tr>\n",
       "    <tr>\n",
       "      <th>4</th>\n",
       "      <td>s5</td>\n",
       "      <td>Movie</td>\n",
       "      <td>21</td>\n",
       "      <td>Robert Luketic</td>\n",
       "      <td>Jim Sturgess, Kevin Spacey, Kate Bosworth, Aar...</td>\n",
       "      <td>United States</td>\n",
       "      <td>January 1, 2020</td>\n",
       "      <td>PG-13</td>\n",
       "      <td>123 min</td>\n",
       "      <td>Dramas</td>\n",
       "      <td>A brilliant group of students become card-coun...</td>\n",
       "    </tr>\n",
       "  </tbody>\n",
       "</table>\n",
       "</div>"
      ],
      "text/plain": [
       "  Show_Id Category  Title           Director  \\\n",
       "0      s1  TV Show     3%                NaN   \n",
       "1      s2    Movie  07:19  Jorge Michel Grau   \n",
       "2      s3    Movie  23:59       Gilbert Chan   \n",
       "3      s4    Movie      9        Shane Acker   \n",
       "4      s5    Movie     21     Robert Luketic   \n",
       "\n",
       "                                                Cast        Country  \\\n",
       "0  João Miguel, Bianca Comparato, Michel Gomes, R...         Brazil   \n",
       "1  Demián Bichir, Héctor Bonilla, Oscar Serrano, ...         Mexico   \n",
       "2  Tedd Chan, Stella Chung, Henley Hii, Lawrence ...      Singapore   \n",
       "3  Elijah Wood, John C. Reilly, Jennifer Connelly...  United States   \n",
       "4  Jim Sturgess, Kevin Spacey, Kate Bosworth, Aar...  United States   \n",
       "\n",
       "        Release_Date Rating   Duration  \\\n",
       "0    August 14, 2020  TV-MA  4 Seasons   \n",
       "1  December 23, 2016  TV-MA     93 min   \n",
       "2  December 20, 2018      R     78 min   \n",
       "3  November 16, 2017  PG-13     80 min   \n",
       "4    January 1, 2020  PG-13    123 min   \n",
       "\n",
       "                                                Type  \\\n",
       "0  International TV Shows, TV Dramas, TV Sci-Fi &...   \n",
       "1                       Dramas, International Movies   \n",
       "2                Horror Movies, International Movies   \n",
       "3  Action & Adventure, Independent Movies, Sci-Fi...   \n",
       "4                                             Dramas   \n",
       "\n",
       "                                         Description  \n",
       "0  In a future where the elite inhabit an island ...  \n",
       "1  After a devastating earthquake hits Mexico Cit...  \n",
       "2  When an army recruit is found dead, his fellow...  \n",
       "3  In a postapocalyptic world, rag-doll robots hi...  \n",
       "4  A brilliant group of students become card-coun...  "
      ]
     },
     "execution_count": 30,
     "metadata": {},
     "output_type": "execute_result"
    }
   ],
   "source": [
    "df=pd.read_csv(\"D:\\\\Netflix Dataset.csv\")\n",
    "df.head()"
   ]
  },
  {
   "cell_type": "code",
   "execution_count": 10,
   "id": "d2d06685",
   "metadata": {},
   "outputs": [
    {
     "data": {
      "text/plain": [
       "(7789, 11)"
      ]
     },
     "execution_count": 10,
     "metadata": {},
     "output_type": "execute_result"
    }
   ],
   "source": [
    "df.shape"
   ]
  },
  {
   "cell_type": "code",
   "execution_count": 7,
   "id": "0df2ce8c",
   "metadata": {},
   "outputs": [
    {
     "name": "stdout",
     "output_type": "stream",
     "text": [
      "<class 'pandas.core.frame.DataFrame'>\n",
      "RangeIndex: 7789 entries, 0 to 7788\n",
      "Data columns (total 11 columns):\n",
      " #   Column        Non-Null Count  Dtype \n",
      "---  ------        --------------  ----- \n",
      " 0   Show_Id       7789 non-null   object\n",
      " 1   Category      7789 non-null   object\n",
      " 2   Title         7789 non-null   object\n",
      " 3   Director      5401 non-null   object\n",
      " 4   Cast          7071 non-null   object\n",
      " 5   Country       7282 non-null   object\n",
      " 6   Release_Date  7779 non-null   object\n",
      " 7   Rating        7782 non-null   object\n",
      " 8   Duration      7789 non-null   object\n",
      " 9   Type          7789 non-null   object\n",
      " 10  Description   7789 non-null   object\n",
      "dtypes: object(11)\n",
      "memory usage: 669.5+ KB\n"
     ]
    }
   ],
   "source": [
    "df.info()"
   ]
  },
  {
   "cell_type": "code",
   "execution_count": 9,
   "id": "accefa55",
   "metadata": {},
   "outputs": [
    {
     "data": {
      "text/plain": [
       "Index(['Show_Id', 'Category', 'Title', 'Director', 'Cast', 'Country',\n",
       "       'Release_Date', 'Rating', 'Duration', 'Type', 'Description'],\n",
       "      dtype='object')"
      ]
     },
     "execution_count": 9,
     "metadata": {},
     "output_type": "execute_result"
    }
   ],
   "source": [
    "df.columns"
   ]
  },
  {
   "cell_type": "code",
   "execution_count": 11,
   "id": "d24c5337",
   "metadata": {},
   "outputs": [
    {
     "data": {
      "text/plain": [
       "Show_Id         object\n",
       "Category        object\n",
       "Title           object\n",
       "Director        object\n",
       "Cast            object\n",
       "Country         object\n",
       "Release_Date    object\n",
       "Rating          object\n",
       "Duration        object\n",
       "Type            object\n",
       "Description     object\n",
       "dtype: object"
      ]
     },
     "execution_count": 11,
     "metadata": {},
     "output_type": "execute_result"
    }
   ],
   "source": [
    "df.dtypes"
   ]
  },
  {
   "cell_type": "markdown",
   "id": "7296d18a",
   "metadata": {},
   "source": [
    "# Check duplicate values"
   ]
  },
  {
   "cell_type": "code",
   "execution_count": 14,
   "id": "11db5deb",
   "metadata": {},
   "outputs": [],
   "source": [
    "dup=df.duplicated().any()"
   ]
  },
  {
   "cell_type": "code",
   "execution_count": 15,
   "id": "790f1892",
   "metadata": {},
   "outputs": [
    {
     "name": "stdout",
     "output_type": "stream",
     "text": [
      "True\n"
     ]
    }
   ],
   "source": [
    "print(dup)"
   ]
  },
  {
   "cell_type": "markdown",
   "id": "a507c248",
   "metadata": {},
   "source": [
    "### Remove the Duplicate values"
   ]
  },
  {
   "cell_type": "code",
   "execution_count": 16,
   "id": "7f89c49a",
   "metadata": {},
   "outputs": [],
   "source": [
    "df.drop_duplicates(inplace=True)"
   ]
  },
  {
   "cell_type": "code",
   "execution_count": 17,
   "id": "a55cdc41",
   "metadata": {},
   "outputs": [
    {
     "data": {
      "text/plain": [
       "(7787, 11)"
      ]
     },
     "execution_count": 17,
     "metadata": {},
     "output_type": "execute_result"
    }
   ],
   "source": [
    "df.shape"
   ]
  },
  {
   "cell_type": "markdown",
   "id": "bc602d04",
   "metadata": {},
   "source": [
    "# Handle Missing value"
   ]
  },
  {
   "cell_type": "markdown",
   "id": "86dd8c60",
   "metadata": {},
   "source": [
    "### Check Null Value"
   ]
  },
  {
   "cell_type": "code",
   "execution_count": 23,
   "id": "0338874c",
   "metadata": {},
   "outputs": [
    {
     "data": {
      "text/plain": [
       "Director        2388\n",
       "Cast             718\n",
       "Country          507\n",
       "Release_Date      10\n",
       "Rating             7\n",
       "Show_Id            0\n",
       "Category           0\n",
       "Title              0\n",
       "Duration           0\n",
       "Type               0\n",
       "Description        0\n",
       "dtype: int64"
      ]
     },
     "execution_count": 23,
     "metadata": {},
     "output_type": "execute_result"
    }
   ],
   "source": [
    "df.isnull().sum().sort_values(ascending=False)"
   ]
  },
  {
   "cell_type": "code",
   "execution_count": 24,
   "id": "9d6e8639",
   "metadata": {},
   "outputs": [
    {
     "data": {
      "text/plain": [
       "<AxesSubplot:>"
      ]
     },
     "execution_count": 24,
     "metadata": {},
     "output_type": "execute_result"
    },
    {
     "data": {
      "image/png": "[encoded data removed]",
      "text/plain": [
       "<Figure size 432x288 with 2 Axes>"
      ]
     },
     "metadata": {
      "needs_background": "light"
     },
     "output_type": "display_data"
    }
   ],
   "source": [
    "sns.heatmap(df.isnull())"
   ]
  },
  {
   "cell_type": "markdown",
   "id": "47efc626",
   "metadata": {},
   "source": [
    "### 1. For 'House of Cards', what is the Show Id and Who is the Director of this show "
   ]
  },
  {
   "cell_type": "code",
   "execution_count": 29,
   "id": "3bb5e6c1",
   "metadata": {
    "scrolled": true
   },
   "outputs": [
    {
     "data": {
      "text/html": [
       "<div>\n",
       "<style scoped>\n",
       "    .dataframe tbody tr th:only-of-type {\n",
       "        vertical-align: middle;\n",
       "    }\n",
       "\n",
       "    .dataframe tbody tr th {\n",
       "        vertical-align: top;\n",
       "    }\n",
       "\n",
       "    .dataframe thead th {\n",
       "        text-align: right;\n",
       "    }\n",
       "</style>\n",
       "<table border=\"1\" class=\"dataframe\">\n",
       "  <thead>\n",
       "    <tr style=\"text-align: right;\">\n",
       "      <th></th>\n",
       "      <th>Show_Id</th>\n",
       "      <th>Director</th>\n",
       "    </tr>\n",
       "  </thead>\n",
       "  <tbody>\n",
       "    <tr>\n",
       "      <th>2832</th>\n",
       "      <td>s2833</td>\n",
       "      <td>Robin Wright, David Fincher, Gerald McRaney, J...</td>\n",
       "    </tr>\n",
       "  </tbody>\n",
       "</table>\n",
       "</div>"
      ],
      "text/plain": [
       "     Show_Id                                           Director\n",
       "2832   s2833  Robin Wright, David Fincher, Gerald McRaney, J..."
      ]
     },
     "execution_count": 29,
     "metadata": {},
     "output_type": "execute_result"
    }
   ],
   "source": [
    "df[df['Title'].str.contains('House of Cards')][['Show_Id','Director']]"
   ]
  },
  {
   "cell_type": "markdown",
   "id": "05b41a5b",
   "metadata": {},
   "source": [
    "##### Create date column from existing Release_Date column"
   ]
  },
  {
   "cell_type": "code",
   "execution_count": 31,
   "id": "fcbeb5ff",
   "metadata": {},
   "outputs": [],
   "source": [
    "df['Date_N']=pd.to_datetime(df['Release_Date'])"
   ]
  },
  {
   "cell_type": "code",
   "execution_count": 32,
   "id": "b8dca9f1",
   "metadata": {},
   "outputs": [
    {
     "data": {
      "text/html": [
       "<div>\n",
       "<style scoped>\n",
       "    .dataframe tbody tr th:only-of-type {\n",
       "        vertical-align: middle;\n",
       "    }\n",
       "\n",
       "    .dataframe tbody tr th {\n",
       "        vertical-align: top;\n",
       "    }\n",
       "\n",
       "    .dataframe thead th {\n",
       "        text-align: right;\n",
       "    }\n",
       "</style>\n",
       "<table border=\"1\" class=\"dataframe\">\n",
       "  <thead>\n",
       "    <tr style=\"text-align: right;\">\n",
       "      <th></th>\n",
       "      <th>Show_Id</th>\n",
       "      <th>Category</th>\n",
       "      <th>Title</th>\n",
       "      <th>Director</th>\n",
       "      <th>Cast</th>\n",
       "      <th>Country</th>\n",
       "      <th>Release_Date</th>\n",
       "      <th>Rating</th>\n",
       "      <th>Duration</th>\n",
       "      <th>Type</th>\n",
       "      <th>Description</th>\n",
       "      <th>Date_N</th>\n",
       "    </tr>\n",
       "  </thead>\n",
       "  <tbody>\n",
       "    <tr>\n",
       "      <th>0</th>\n",
       "      <td>s1</td>\n",
       "      <td>TV Show</td>\n",
       "      <td>3%</td>\n",
       "      <td>NaN</td>\n",
       "      <td>João Miguel, Bianca Comparato, Michel Gomes, R...</td>\n",
       "      <td>Brazil</td>\n",
       "      <td>August 14, 2020</td>\n",
       "      <td>TV-MA</td>\n",
       "      <td>4 Seasons</td>\n",
       "      <td>International TV Shows, TV Dramas, TV Sci-Fi &amp;...</td>\n",
       "      <td>In a future where the elite inhabit an island ...</td>\n",
       "      <td>2020-08-14</td>\n",
       "    </tr>\n",
       "    <tr>\n",
       "      <th>1</th>\n",
       "      <td>s2</td>\n",
       "      <td>Movie</td>\n",
       "      <td>07:19</td>\n",
       "      <td>Jorge Michel Grau</td>\n",
       "      <td>Demián Bichir, Héctor Bonilla, Oscar Serrano, ...</td>\n",
       "      <td>Mexico</td>\n",
       "      <td>December 23, 2016</td>\n",
       "      <td>TV-MA</td>\n",
       "      <td>93 min</td>\n",
       "      <td>Dramas, International Movies</td>\n",
       "      <td>After a devastating earthquake hits Mexico Cit...</td>\n",
       "      <td>2016-12-23</td>\n",
       "    </tr>\n",
       "  </tbody>\n",
       "</table>\n",
       "</div>"
      ],
      "text/plain": [
       "  Show_Id Category  Title           Director  \\\n",
       "0      s1  TV Show     3%                NaN   \n",
       "1      s2    Movie  07:19  Jorge Michel Grau   \n",
       "\n",
       "                                                Cast Country  \\\n",
       "0  João Miguel, Bianca Comparato, Michel Gomes, R...  Brazil   \n",
       "1  Demián Bichir, Héctor Bonilla, Oscar Serrano, ...  Mexico   \n",
       "\n",
       "        Release_Date Rating   Duration  \\\n",
       "0    August 14, 2020  TV-MA  4 Seasons   \n",
       "1  December 23, 2016  TV-MA     93 min   \n",
       "\n",
       "                                                Type  \\\n",
       "0  International TV Shows, TV Dramas, TV Sci-Fi &...   \n",
       "1                       Dramas, International Movies   \n",
       "\n",
       "                                         Description     Date_N  \n",
       "0  In a future where the elite inhabit an island ... 2020-08-14  \n",
       "1  After a devastating earthquake hits Mexico Cit... 2016-12-23  "
      ]
     },
     "execution_count": 32,
     "metadata": {},
     "output_type": "execute_result"
    }
   ],
   "source": [
    "df.head(2)"
   ]
  },
  {
   "cell_type": "markdown",
   "id": "fb018a8c",
   "metadata": {},
   "source": [
    "### 2. In which year the highest number of the TV Shows & Movies were released ? Show with Bar Graph."
   ]
  },
  {
   "cell_type": "code",
   "execution_count": 36,
   "id": "37ecc6a4",
   "metadata": {},
   "outputs": [],
   "source": [
    "High=df['Date_N'].dt.year.value_counts().sort_values(ascending=False)"
   ]
  },
  {
   "cell_type": "code",
   "execution_count": 38,
   "id": "bfeb2bfa",
   "metadata": {},
   "outputs": [
    {
     "data": {
      "text/plain": [
       "<AxesSubplot:>"
      ]
     },
     "execution_count": 38,
     "metadata": {},
     "output_type": "execute_result"
    },
    {
     "data": {
      "image/png": "[encoded data removed]",
      "text/plain": [
       "<Figure size 432x288 with 1 Axes>"
      ]
     },
     "metadata": {
      "needs_background": "light"
     },
     "output_type": "display_data"
    }
   ],
   "source": [
    "High.plot(kind='bar')"
   ]
  },
  {
   "cell_type": "markdown",
   "id": "2dbf8b9b",
   "metadata": {},
   "source": [
    "### 3. How many Movies & TV Shows are in the dataset "
   ]
  },
  {
   "cell_type": "code",
   "execution_count": 39,
   "id": "c8b71da4",
   "metadata": {},
   "outputs": [
    {
     "data": {
      "text/html": [
       "<div>\n",
       "<style scoped>\n",
       "    .dataframe tbody tr th:only-of-type {\n",
       "        vertical-align: middle;\n",
       "    }\n",
       "\n",
       "    .dataframe tbody tr th {\n",
       "        vertical-align: top;\n",
       "    }\n",
       "\n",
       "    .dataframe thead th {\n",
       "        text-align: right;\n",
       "    }\n",
       "</style>\n",
       "<table border=\"1\" class=\"dataframe\">\n",
       "  <thead>\n",
       "    <tr style=\"text-align: right;\">\n",
       "      <th></th>\n",
       "      <th>Show_Id</th>\n",
       "      <th>Category</th>\n",
       "      <th>Title</th>\n",
       "      <th>Director</th>\n",
       "      <th>Cast</th>\n",
       "      <th>Country</th>\n",
       "      <th>Release_Date</th>\n",
       "      <th>Rating</th>\n",
       "      <th>Duration</th>\n",
       "      <th>Type</th>\n",
       "      <th>Description</th>\n",
       "      <th>Date_N</th>\n",
       "    </tr>\n",
       "  </thead>\n",
       "  <tbody>\n",
       "    <tr>\n",
       "      <th>0</th>\n",
       "      <td>s1</td>\n",
       "      <td>TV Show</td>\n",
       "      <td>3%</td>\n",
       "      <td>NaN</td>\n",
       "      <td>João Miguel, Bianca Comparato, Michel Gomes, R...</td>\n",
       "      <td>Brazil</td>\n",
       "      <td>August 14, 2020</td>\n",
       "      <td>TV-MA</td>\n",
       "      <td>4 Seasons</td>\n",
       "      <td>International TV Shows, TV Dramas, TV Sci-Fi &amp;...</td>\n",
       "      <td>In a future where the elite inhabit an island ...</td>\n",
       "      <td>2020-08-14</td>\n",
       "    </tr>\n",
       "    <tr>\n",
       "      <th>1</th>\n",
       "      <td>s2</td>\n",
       "      <td>Movie</td>\n",
       "      <td>07:19</td>\n",
       "      <td>Jorge Michel Grau</td>\n",
       "      <td>Demián Bichir, Héctor Bonilla, Oscar Serrano, ...</td>\n",
       "      <td>Mexico</td>\n",
       "      <td>December 23, 2016</td>\n",
       "      <td>TV-MA</td>\n",
       "      <td>93 min</td>\n",
       "      <td>Dramas, International Movies</td>\n",
       "      <td>After a devastating earthquake hits Mexico Cit...</td>\n",
       "      <td>2016-12-23</td>\n",
       "    </tr>\n",
       "    <tr>\n",
       "      <th>2</th>\n",
       "      <td>s3</td>\n",
       "      <td>Movie</td>\n",
       "      <td>23:59</td>\n",
       "      <td>Gilbert Chan</td>\n",
       "      <td>Tedd Chan, Stella Chung, Henley Hii, Lawrence ...</td>\n",
       "      <td>Singapore</td>\n",
       "      <td>December 20, 2018</td>\n",
       "      <td>R</td>\n",
       "      <td>78 min</td>\n",
       "      <td>Horror Movies, International Movies</td>\n",
       "      <td>When an army recruit is found dead, his fellow...</td>\n",
       "      <td>2018-12-20</td>\n",
       "    </tr>\n",
       "    <tr>\n",
       "      <th>3</th>\n",
       "      <td>s4</td>\n",
       "      <td>Movie</td>\n",
       "      <td>9</td>\n",
       "      <td>Shane Acker</td>\n",
       "      <td>Elijah Wood, John C. Reilly, Jennifer Connelly...</td>\n",
       "      <td>United States</td>\n",
       "      <td>November 16, 2017</td>\n",
       "      <td>PG-13</td>\n",
       "      <td>80 min</td>\n",
       "      <td>Action &amp; Adventure, Independent Movies, Sci-Fi...</td>\n",
       "      <td>In a postapocalyptic world, rag-doll robots hi...</td>\n",
       "      <td>2017-11-16</td>\n",
       "    </tr>\n",
       "    <tr>\n",
       "      <th>4</th>\n",
       "      <td>s5</td>\n",
       "      <td>Movie</td>\n",
       "      <td>21</td>\n",
       "      <td>Robert Luketic</td>\n",
       "      <td>Jim Sturgess, Kevin Spacey, Kate Bosworth, Aar...</td>\n",
       "      <td>United States</td>\n",
       "      <td>January 1, 2020</td>\n",
       "      <td>PG-13</td>\n",
       "      <td>123 min</td>\n",
       "      <td>Dramas</td>\n",
       "      <td>A brilliant group of students become card-coun...</td>\n",
       "      <td>2020-01-01</td>\n",
       "    </tr>\n",
       "  </tbody>\n",
       "</table>\n",
       "</div>"
      ],
      "text/plain": [
       "  Show_Id Category  Title           Director  \\\n",
       "0      s1  TV Show     3%                NaN   \n",
       "1      s2    Movie  07:19  Jorge Michel Grau   \n",
       "2      s3    Movie  23:59       Gilbert Chan   \n",
       "3      s4    Movie      9        Shane Acker   \n",
       "4      s5    Movie     21     Robert Luketic   \n",
       "\n",
       "                                                Cast        Country  \\\n",
       "0  João Miguel, Bianca Comparato, Michel Gomes, R...         Brazil   \n",
       "1  Demián Bichir, Héctor Bonilla, Oscar Serrano, ...         Mexico   \n",
       "2  Tedd Chan, Stella Chung, Henley Hii, Lawrence ...      Singapore   \n",
       "3  Elijah Wood, John C. Reilly, Jennifer Connelly...  United States   \n",
       "4  Jim Sturgess, Kevin Spacey, Kate Bosworth, Aar...  United States   \n",
       "\n",
       "        Release_Date Rating   Duration  \\\n",
       "0    August 14, 2020  TV-MA  4 Seasons   \n",
       "1  December 23, 2016  TV-MA     93 min   \n",
       "2  December 20, 2018      R     78 min   \n",
       "3  November 16, 2017  PG-13     80 min   \n",
       "4    January 1, 2020  PG-13    123 min   \n",
       "\n",
       "                                                Type  \\\n",
       "0  International TV Shows, TV Dramas, TV Sci-Fi &...   \n",
       "1                       Dramas, International Movies   \n",
       "2                Horror Movies, International Movies   \n",
       "3  Action & Adventure, Independent Movies, Sci-Fi...   \n",
       "4                                             Dramas   \n",
       "\n",
       "                                         Description     Date_N  \n",
       "0  In a future where the elite inhabit an island ... 2020-08-14  \n",
       "1  After a devastating earthquake hits Mexico Cit... 2016-12-23  \n",
       "2  When an army recruit is found dead, his fellow... 2018-12-20  \n",
       "3  In a postapocalyptic world, rag-doll robots hi... 2017-11-16  \n",
       "4  A brilliant group of students become card-coun... 2020-01-01  "
      ]
     },
     "execution_count": 39,
     "metadata": {},
     "output_type": "execute_result"
    }
   ],
   "source": [
    "df.head()"
   ]
  },
  {
   "cell_type": "code",
   "execution_count": 40,
   "id": "6359f6c0",
   "metadata": {},
   "outputs": [
    {
     "data": {
      "text/plain": [
       "Movie      5379\n",
       "TV Show    2410\n",
       "Name: Category, dtype: int64"
      ]
     },
     "execution_count": 40,
     "metadata": {},
     "output_type": "execute_result"
    }
   ],
   "source": [
    "df['Category'].value_counts()"
   ]
  },
  {
   "cell_type": "code",
   "execution_count": 43,
   "id": "d9dbc09e",
   "metadata": {},
   "outputs": [
    {
     "data": {
      "image/png": "[encoded data removed]",
      "text/plain": [
       "<Figure size 432x288 with 1 Axes>"
      ]
     },
     "metadata": {
      "needs_background": "light"
     },
     "output_type": "display_data"
    }
   ],
   "source": [
    "\n",
    "sns.countplot(x='Category',data=df)\n",
    "plt.title('No.of Movies & Shows')\n",
    "plt.show()"
   ]
  },
  {
   "cell_type": "markdown",
   "id": "ecbbdbd5",
   "metadata": {},
   "source": [
    "### 4. Show all the Movies that were released in year 2000."
   ]
  },
  {
   "cell_type": "markdown",
   "id": "7fc582cb",
   "metadata": {},
   "source": [
    "#### Create only year column"
   ]
  },
  {
   "cell_type": "code",
   "execution_count": 44,
   "id": "107dcf65",
   "metadata": {},
   "outputs": [],
   "source": [
    "df['Year']=df['Date_N'].dt.year"
   ]
  },
  {
   "cell_type": "code",
   "execution_count": 45,
   "id": "695a4b03",
   "metadata": {},
   "outputs": [
    {
     "data": {
      "text/html": [
       "<div>\n",
       "<style scoped>\n",
       "    .dataframe tbody tr th:only-of-type {\n",
       "        vertical-align: middle;\n",
       "    }\n",
       "\n",
       "    .dataframe tbody tr th {\n",
       "        vertical-align: top;\n",
       "    }\n",
       "\n",
       "    .dataframe thead th {\n",
       "        text-align: right;\n",
       "    }\n",
       "</style>\n",
       "<table border=\"1\" class=\"dataframe\">\n",
       "  <thead>\n",
       "    <tr style=\"text-align: right;\">\n",
       "      <th></th>\n",
       "      <th>Show_Id</th>\n",
       "      <th>Category</th>\n",
       "      <th>Title</th>\n",
       "      <th>Director</th>\n",
       "      <th>Cast</th>\n",
       "      <th>Country</th>\n",
       "      <th>Release_Date</th>\n",
       "      <th>Rating</th>\n",
       "      <th>Duration</th>\n",
       "      <th>Type</th>\n",
       "      <th>Description</th>\n",
       "      <th>Date_N</th>\n",
       "      <th>Year</th>\n",
       "    </tr>\n",
       "  </thead>\n",
       "  <tbody>\n",
       "    <tr>\n",
       "      <th>0</th>\n",
       "      <td>s1</td>\n",
       "      <td>TV Show</td>\n",
       "      <td>3%</td>\n",
       "      <td>NaN</td>\n",
       "      <td>João Miguel, Bianca Comparato, Michel Gomes, R...</td>\n",
       "      <td>Brazil</td>\n",
       "      <td>August 14, 2020</td>\n",
       "      <td>TV-MA</td>\n",
       "      <td>4 Seasons</td>\n",
       "      <td>International TV Shows, TV Dramas, TV Sci-Fi &amp;...</td>\n",
       "      <td>In a future where the elite inhabit an island ...</td>\n",
       "      <td>2020-08-14</td>\n",
       "      <td>2020.0</td>\n",
       "    </tr>\n",
       "    <tr>\n",
       "      <th>1</th>\n",
       "      <td>s2</td>\n",
       "      <td>Movie</td>\n",
       "      <td>07:19</td>\n",
       "      <td>Jorge Michel Grau</td>\n",
       "      <td>Demián Bichir, Héctor Bonilla, Oscar Serrano, ...</td>\n",
       "      <td>Mexico</td>\n",
       "      <td>December 23, 2016</td>\n",
       "      <td>TV-MA</td>\n",
       "      <td>93 min</td>\n",
       "      <td>Dramas, International Movies</td>\n",
       "      <td>After a devastating earthquake hits Mexico Cit...</td>\n",
       "      <td>2016-12-23</td>\n",
       "      <td>2016.0</td>\n",
       "    </tr>\n",
       "  </tbody>\n",
       "</table>\n",
       "</div>"
      ],
      "text/plain": [
       "  Show_Id Category  Title           Director  \\\n",
       "0      s1  TV Show     3%                NaN   \n",
       "1      s2    Movie  07:19  Jorge Michel Grau   \n",
       "\n",
       "                                                Cast Country  \\\n",
       "0  João Miguel, Bianca Comparato, Michel Gomes, R...  Brazil   \n",
       "1  Demián Bichir, Héctor Bonilla, Oscar Serrano, ...  Mexico   \n",
       "\n",
       "        Release_Date Rating   Duration  \\\n",
       "0    August 14, 2020  TV-MA  4 Seasons   \n",
       "1  December 23, 2016  TV-MA     93 min   \n",
       "\n",
       "                                                Type  \\\n",
       "0  International TV Shows, TV Dramas, TV Sci-Fi &...   \n",
       "1                       Dramas, International Movies   \n",
       "\n",
       "                                         Description     Date_N    Year  \n",
       "0  In a future where the elite inhabit an island ... 2020-08-14  2020.0  \n",
       "1  After a devastating earthquake hits Mexico Cit... 2016-12-23  2016.0  "
      ]
     },
     "execution_count": 45,
     "metadata": {},
     "output_type": "execute_result"
    }
   ],
   "source": [
    "df.head(2)"
   ]
  },
  {
   "cell_type": "markdown",
   "id": "afbbe966",
   "metadata": {},
   "source": [
    "#### Show Movies released in 2000"
   ]
  },
  {
   "cell_type": "code",
   "execution_count": 51,
   "id": "2632a8d1",
   "metadata": {},
   "outputs": [
    {
     "data": {
      "text/html": [
       "<div>\n",
       "<style scoped>\n",
       "    .dataframe tbody tr th:only-of-type {\n",
       "        vertical-align: middle;\n",
       "    }\n",
       "\n",
       "    .dataframe tbody tr th {\n",
       "        vertical-align: top;\n",
       "    }\n",
       "\n",
       "    .dataframe thead th {\n",
       "        text-align: right;\n",
       "    }\n",
       "</style>\n",
       "<table border=\"1\" class=\"dataframe\">\n",
       "  <thead>\n",
       "    <tr style=\"text-align: right;\">\n",
       "      <th></th>\n",
       "      <th>Show_Id</th>\n",
       "      <th>Category</th>\n",
       "      <th>Title</th>\n",
       "      <th>Director</th>\n",
       "      <th>Cast</th>\n",
       "      <th>Country</th>\n",
       "      <th>Release_Date</th>\n",
       "      <th>Rating</th>\n",
       "      <th>Duration</th>\n",
       "      <th>Type</th>\n",
       "      <th>Description</th>\n",
       "      <th>Date_N</th>\n",
       "      <th>Year</th>\n",
       "    </tr>\n",
       "  </thead>\n",
       "  <tbody>\n",
       "  </tbody>\n",
       "</table>\n",
       "</div>"
      ],
      "text/plain": [
       "Empty DataFrame\n",
       "Columns: [Show_Id, Category, Title, Director, Cast, Country, Release_Date, Rating, Duration, Type, Description, Date_N, Year]\n",
       "Index: []"
      ]
     },
     "execution_count": 51,
     "metadata": {},
     "output_type": "execute_result"
    }
   ],
   "source": [
    "df[(df['Category']=='Movie')&(df['Year']==2000)]"
   ]
  },
  {
   "cell_type": "markdown",
   "id": "3685ae5f",
   "metadata": {},
   "source": [
    "### 5. Show only the Titles of all TV Shows that were released in India only."
   ]
  },
  {
   "cell_type": "code",
   "execution_count": 55,
   "id": "fb6534ec",
   "metadata": {},
   "outputs": [
    {
     "data": {
      "text/plain": [
       "86            21 Sarfarosh: Saragarhi 1897\n",
       "132                              7 (Seven)\n",
       "340                           Agent Raghav\n",
       "364                           Akbar Birbal\n",
       "533                    Anjaan: Rural Myths\n",
       "                       ...                \n",
       "6249                  The Creative Indians\n",
       "6400    The Golden Years with Javed Akhtar\n",
       "6469                The House That Made Me\n",
       "7294                            Typewriter\n",
       "7705                       Yeh Meri Family\n",
       "Name: Title, Length: 71, dtype: object"
      ]
     },
     "execution_count": 55,
     "metadata": {},
     "output_type": "execute_result"
    }
   ],
   "source": [
    "df[(df['Category']=='TV Show')&(df['Country']=='India')]['Title']"
   ]
  },
  {
   "cell_type": "markdown",
   "id": "0bb55080",
   "metadata": {},
   "source": [
    "### 6. Show Top 10 Directors, who gave the highest number of TV Shows & Movies to Netflix"
   ]
  },
  {
   "cell_type": "code",
   "execution_count": 61,
   "id": "99936aee",
   "metadata": {},
   "outputs": [
    {
     "data": {
      "text/plain": [
       "Raúl Campos, Jan Suter    18\n",
       "Marcus Raboy              16\n",
       "Jay Karas                 14\n",
       "Cathy Garcia-Molina       13\n",
       "Jay Chapman               12\n",
       "Youssef Chahine           12\n",
       "Martin Scorsese           12\n",
       "Steven Spielberg          10\n",
       "David Dhawan               9\n",
       "Robert Rodriguez           8\n",
       "Name: Director, dtype: int64"
      ]
     },
     "execution_count": 61,
     "metadata": {},
     "output_type": "execute_result"
    }
   ],
   "source": [
    "df['Director'].value_counts().head(10)"
   ]
  },
  {
   "cell_type": "code",
   "execution_count": 62,
   "id": "b1b37694",
   "metadata": {},
   "outputs": [
    {
     "data": {
      "text/plain": [
       "<AxesSubplot:>"
      ]
     },
     "execution_count": 62,
     "metadata": {},
     "output_type": "execute_result"
    },
    {
     "data": {
      "image/png": "[encoded data removed]",
      "text/plain": [
       "<Figure size 432x288 with 1 Axes>"
      ]
     },
     "metadata": {
      "needs_background": "light"
     },
     "output_type": "display_data"
    }
   ],
   "source": [
    "df['Director'].value_counts().head(10).plot(kind='bar')"
   ]
  },
  {
   "cell_type": "markdown",
   "id": "c1857e43",
   "metadata": {},
   "source": [
    "### 7. Show all the Records, where \"Category is Movie and Type is Comedies\" or \"Country is United Kingdom"
   ]
  },
  {
   "cell_type": "code",
   "execution_count": 66,
   "id": "572e569d",
   "metadata": {},
   "outputs": [
    {
     "data": {
      "text/html": [
       "<div>\n",
       "<style scoped>\n",
       "    .dataframe tbody tr th:only-of-type {\n",
       "        vertical-align: middle;\n",
       "    }\n",
       "\n",
       "    .dataframe tbody tr th {\n",
       "        vertical-align: top;\n",
       "    }\n",
       "\n",
       "    .dataframe thead th {\n",
       "        text-align: right;\n",
       "    }\n",
       "</style>\n",
       "<table border=\"1\" class=\"dataframe\">\n",
       "  <thead>\n",
       "    <tr style=\"text-align: right;\">\n",
       "      <th></th>\n",
       "      <th>Show_Id</th>\n",
       "      <th>Category</th>\n",
       "      <th>Title</th>\n",
       "      <th>Director</th>\n",
       "      <th>Cast</th>\n",
       "      <th>Country</th>\n",
       "      <th>Release_Date</th>\n",
       "      <th>Rating</th>\n",
       "      <th>Duration</th>\n",
       "      <th>Type</th>\n",
       "      <th>Description</th>\n",
       "      <th>Date_N</th>\n",
       "      <th>Year</th>\n",
       "    </tr>\n",
       "  </thead>\n",
       "  <tbody>\n",
       "    <tr>\n",
       "      <th>33</th>\n",
       "      <td>s34</td>\n",
       "      <td>Movie</td>\n",
       "      <td>#realityhigh</td>\n",
       "      <td>Fernando Lebrija</td>\n",
       "      <td>Nesta Cooper, Kate Walsh, John Michael Higgins...</td>\n",
       "      <td>United States</td>\n",
       "      <td>September 8, 2017</td>\n",
       "      <td>TV-14</td>\n",
       "      <td>99 min</td>\n",
       "      <td>Comedies</td>\n",
       "      <td>When nerdy high schooler Dani finally attracts...</td>\n",
       "      <td>2017-09-08</td>\n",
       "      <td>2017.0</td>\n",
       "    </tr>\n",
       "    <tr>\n",
       "      <th>72</th>\n",
       "      <td>s73</td>\n",
       "      <td>Movie</td>\n",
       "      <td>17 Again</td>\n",
       "      <td>Burr Steers</td>\n",
       "      <td>Zac Efron, Leslie Mann, Matthew Perry, Thomas ...</td>\n",
       "      <td>United States</td>\n",
       "      <td>January 1, 2021</td>\n",
       "      <td>PG-13</td>\n",
       "      <td>102 min</td>\n",
       "      <td>Comedies</td>\n",
       "      <td>Nearing a midlife crisis, thirty-something Mik...</td>\n",
       "      <td>2021-01-01</td>\n",
       "      <td>2021.0</td>\n",
       "    </tr>\n",
       "    <tr>\n",
       "      <th>84</th>\n",
       "      <td>s85</td>\n",
       "      <td>Movie</td>\n",
       "      <td>21 &amp; Over</td>\n",
       "      <td>Jon Lucas, Scott Moore</td>\n",
       "      <td>Miles Teller, Skylar Astin, Justin Chon, Sarah...</td>\n",
       "      <td>United States</td>\n",
       "      <td>April 16, 2019</td>\n",
       "      <td>R</td>\n",
       "      <td>93 min</td>\n",
       "      <td>Comedies</td>\n",
       "      <td>Jeff's straight-and-narrow life changes abrupt...</td>\n",
       "      <td>2019-04-16</td>\n",
       "      <td>2019.0</td>\n",
       "    </tr>\n",
       "    <tr>\n",
       "      <th>148</th>\n",
       "      <td>s149</td>\n",
       "      <td>Movie</td>\n",
       "      <td>A Bad Moms Christmas</td>\n",
       "      <td>Jon Lucas, Scott Moore</td>\n",
       "      <td>Mila Kunis, Kristen Bell, Kathryn Hahn, Susan ...</td>\n",
       "      <td>United States, China</td>\n",
       "      <td>February 14, 2020</td>\n",
       "      <td>R</td>\n",
       "      <td>104 min</td>\n",
       "      <td>Comedies</td>\n",
       "      <td>Stressed-out moms Amy, Carla and Kiki are back...</td>\n",
       "      <td>2020-02-14</td>\n",
       "      <td>2020.0</td>\n",
       "    </tr>\n",
       "    <tr>\n",
       "      <th>174</th>\n",
       "      <td>s175</td>\n",
       "      <td>Movie</td>\n",
       "      <td>A Futile and Stupid Gesture</td>\n",
       "      <td>David Wain</td>\n",
       "      <td>Will Forte, Domhnall Gleeson, Martin Mull, Joe...</td>\n",
       "      <td>United States</td>\n",
       "      <td>January 26, 2018</td>\n",
       "      <td>TV-MA</td>\n",
       "      <td>102 min</td>\n",
       "      <td>Comedies</td>\n",
       "      <td>In a brief life full of triumph and failure, \"...</td>\n",
       "      <td>2018-01-26</td>\n",
       "      <td>2018.0</td>\n",
       "    </tr>\n",
       "    <tr>\n",
       "      <th>...</th>\n",
       "      <td>...</td>\n",
       "      <td>...</td>\n",
       "      <td>...</td>\n",
       "      <td>...</td>\n",
       "      <td>...</td>\n",
       "      <td>...</td>\n",
       "      <td>...</td>\n",
       "      <td>...</td>\n",
       "      <td>...</td>\n",
       "      <td>...</td>\n",
       "      <td>...</td>\n",
       "      <td>...</td>\n",
       "      <td>...</td>\n",
       "    </tr>\n",
       "    <tr>\n",
       "      <th>7341</th>\n",
       "      <td>s7340</td>\n",
       "      <td>Movie</td>\n",
       "      <td>Undercover Brother 2</td>\n",
       "      <td>Leslie Small</td>\n",
       "      <td>Michael Jai White, Vince Swann, Barry Bostwick...</td>\n",
       "      <td>United States</td>\n",
       "      <td>November 5, 2019</td>\n",
       "      <td>R</td>\n",
       "      <td>85 min</td>\n",
       "      <td>Comedies</td>\n",
       "      <td>When a beloved secret agent falls deep into a ...</td>\n",
       "      <td>2019-11-05</td>\n",
       "      <td>2019.0</td>\n",
       "    </tr>\n",
       "    <tr>\n",
       "      <th>7590</th>\n",
       "      <td>s7589</td>\n",
       "      <td>Movie</td>\n",
       "      <td>Where's the Money</td>\n",
       "      <td>Scott Zabielski</td>\n",
       "      <td>Andrew Bachelor, Kat Graham, Mike Epps, Terry ...</td>\n",
       "      <td>United States</td>\n",
       "      <td>January 22, 2018</td>\n",
       "      <td>R</td>\n",
       "      <td>86 min</td>\n",
       "      <td>Comedies</td>\n",
       "      <td>Hunting for a stash of stolen money, a sharp-w...</td>\n",
       "      <td>2018-01-22</td>\n",
       "      <td>2018.0</td>\n",
       "    </tr>\n",
       "    <tr>\n",
       "      <th>7623</th>\n",
       "      <td>s7622</td>\n",
       "      <td>Movie</td>\n",
       "      <td>Wild Oats</td>\n",
       "      <td>Andy Tennant</td>\n",
       "      <td>Shirley MacLaine, Jessica Lange, Billy Connoll...</td>\n",
       "      <td>Germany, United States</td>\n",
       "      <td>May 13, 2017</td>\n",
       "      <td>PG-13</td>\n",
       "      <td>86 min</td>\n",
       "      <td>Comedies</td>\n",
       "      <td>When insurance accidentally pays her millions,...</td>\n",
       "      <td>2017-05-13</td>\n",
       "      <td>2017.0</td>\n",
       "    </tr>\n",
       "    <tr>\n",
       "      <th>7634</th>\n",
       "      <td>s7633</td>\n",
       "      <td>Movie</td>\n",
       "      <td>Wine Country</td>\n",
       "      <td>Amy Poehler</td>\n",
       "      <td>Amy Poehler, Maya Rudolph, Ana Gasteyer, Rache...</td>\n",
       "      <td>United States</td>\n",
       "      <td>May 10, 2019</td>\n",
       "      <td>R</td>\n",
       "      <td>104 min</td>\n",
       "      <td>Comedies</td>\n",
       "      <td>When longtime friends meet up for a wine-soake...</td>\n",
       "      <td>2019-05-10</td>\n",
       "      <td>2019.0</td>\n",
       "    </tr>\n",
       "    <tr>\n",
       "      <th>7664</th>\n",
       "      <td>s7663</td>\n",
       "      <td>Movie</td>\n",
       "      <td>Work It</td>\n",
       "      <td>Laura Terruso</td>\n",
       "      <td>Sabrina Carpenter, Jordan Fisher, Liza Koshy, ...</td>\n",
       "      <td>United States</td>\n",
       "      <td>August 7, 2020</td>\n",
       "      <td>TV-14</td>\n",
       "      <td>94 min</td>\n",
       "      <td>Comedies</td>\n",
       "      <td>A brilliant but clumsy high school senior vows...</td>\n",
       "      <td>2020-08-07</td>\n",
       "      <td>2020.0</td>\n",
       "    </tr>\n",
       "  </tbody>\n",
       "</table>\n",
       "<p>97 rows × 13 columns</p>\n",
       "</div>"
      ],
      "text/plain": [
       "     Show_Id Category                        Title                Director  \\\n",
       "33       s34    Movie                 #realityhigh        Fernando Lebrija   \n",
       "72       s73    Movie                     17 Again             Burr Steers   \n",
       "84       s85    Movie                    21 & Over  Jon Lucas, Scott Moore   \n",
       "148     s149    Movie         A Bad Moms Christmas  Jon Lucas, Scott Moore   \n",
       "174     s175    Movie  A Futile and Stupid Gesture              David Wain   \n",
       "...      ...      ...                          ...                     ...   \n",
       "7341   s7340    Movie         Undercover Brother 2            Leslie Small   \n",
       "7590   s7589    Movie            Where's the Money         Scott Zabielski   \n",
       "7623   s7622    Movie                    Wild Oats            Andy Tennant   \n",
       "7634   s7633    Movie                 Wine Country             Amy Poehler   \n",
       "7664   s7663    Movie                      Work It           Laura Terruso   \n",
       "\n",
       "                                                   Cast  \\\n",
       "33    Nesta Cooper, Kate Walsh, John Michael Higgins...   \n",
       "72    Zac Efron, Leslie Mann, Matthew Perry, Thomas ...   \n",
       "84    Miles Teller, Skylar Astin, Justin Chon, Sarah...   \n",
       "148   Mila Kunis, Kristen Bell, Kathryn Hahn, Susan ...   \n",
       "174   Will Forte, Domhnall Gleeson, Martin Mull, Joe...   \n",
       "...                                                 ...   \n",
       "7341  Michael Jai White, Vince Swann, Barry Bostwick...   \n",
       "7590  Andrew Bachelor, Kat Graham, Mike Epps, Terry ...   \n",
       "7623  Shirley MacLaine, Jessica Lange, Billy Connoll...   \n",
       "7634  Amy Poehler, Maya Rudolph, Ana Gasteyer, Rache...   \n",
       "7664  Sabrina Carpenter, Jordan Fisher, Liza Koshy, ...   \n",
       "\n",
       "                     Country       Release_Date Rating Duration      Type  \\\n",
       "33             United States  September 8, 2017  TV-14   99 min  Comedies   \n",
       "72             United States    January 1, 2021  PG-13  102 min  Comedies   \n",
       "84             United States     April 16, 2019      R   93 min  Comedies   \n",
       "148     United States, China  February 14, 2020      R  104 min  Comedies   \n",
       "174            United States   January 26, 2018  TV-MA  102 min  Comedies   \n",
       "...                      ...                ...    ...      ...       ...   \n",
       "7341           United States   November 5, 2019      R   85 min  Comedies   \n",
       "7590           United States   January 22, 2018      R   86 min  Comedies   \n",
       "7623  Germany, United States       May 13, 2017  PG-13   86 min  Comedies   \n",
       "7634           United States       May 10, 2019      R  104 min  Comedies   \n",
       "7664           United States     August 7, 2020  TV-14   94 min  Comedies   \n",
       "\n",
       "                                            Description     Date_N    Year  \n",
       "33    When nerdy high schooler Dani finally attracts... 2017-09-08  2017.0  \n",
       "72    Nearing a midlife crisis, thirty-something Mik... 2021-01-01  2021.0  \n",
       "84    Jeff's straight-and-narrow life changes abrupt... 2019-04-16  2019.0  \n",
       "148   Stressed-out moms Amy, Carla and Kiki are back... 2020-02-14  2020.0  \n",
       "174   In a brief life full of triumph and failure, \"... 2018-01-26  2018.0  \n",
       "...                                                 ...        ...     ...  \n",
       "7341  When a beloved secret agent falls deep into a ... 2019-11-05  2019.0  \n",
       "7590  Hunting for a stash of stolen money, a sharp-w... 2018-01-22  2018.0  \n",
       "7623  When insurance accidentally pays her millions,... 2017-05-13  2017.0  \n",
       "7634  When longtime friends meet up for a wine-soake... 2019-05-10  2019.0  \n",
       "7664  A brilliant but clumsy high school senior vows... 2020-08-07  2020.0  \n",
       "\n",
       "[97 rows x 13 columns]"
      ]
     },
     "execution_count": 66,
     "metadata": {},
     "output_type": "execute_result"
    }
   ],
   "source": [
    "df[(df['Category']=='Movie')&(df['Type']=='Comedies')]"
   ]
  },
  {
   "cell_type": "code",
   "execution_count": 71,
   "id": "e54be70b",
   "metadata": {},
   "outputs": [
    {
     "data": {
      "text/html": [
       "<div>\n",
       "<style scoped>\n",
       "    .dataframe tbody tr th:only-of-type {\n",
       "        vertical-align: middle;\n",
       "    }\n",
       "\n",
       "    .dataframe tbody tr th {\n",
       "        vertical-align: top;\n",
       "    }\n",
       "\n",
       "    .dataframe thead th {\n",
       "        text-align: right;\n",
       "    }\n",
       "</style>\n",
       "<table border=\"1\" class=\"dataframe\">\n",
       "  <thead>\n",
       "    <tr style=\"text-align: right;\">\n",
       "      <th></th>\n",
       "      <th>Show_Id</th>\n",
       "      <th>Category</th>\n",
       "      <th>Title</th>\n",
       "      <th>Director</th>\n",
       "      <th>Cast</th>\n",
       "      <th>Country</th>\n",
       "      <th>Release_Date</th>\n",
       "      <th>Rating</th>\n",
       "      <th>Duration</th>\n",
       "      <th>Type</th>\n",
       "      <th>Description</th>\n",
       "      <th>Date_N</th>\n",
       "      <th>Year</th>\n",
       "    </tr>\n",
       "  </thead>\n",
       "  <tbody>\n",
       "    <tr>\n",
       "      <th>19</th>\n",
       "      <td>s20</td>\n",
       "      <td>Movie</td>\n",
       "      <td>'89</td>\n",
       "      <td>NaN</td>\n",
       "      <td>Lee Dixon, Ian Wright, Paul Merson</td>\n",
       "      <td>United Kingdom</td>\n",
       "      <td>May 16, 2018</td>\n",
       "      <td>TV-PG</td>\n",
       "      <td>87 min</td>\n",
       "      <td>Sports Movies</td>\n",
       "      <td>Mixing old footage with interviews, this is th...</td>\n",
       "      <td>2018-05-16</td>\n",
       "      <td>2018.0</td>\n",
       "    </tr>\n",
       "    <tr>\n",
       "      <th>33</th>\n",
       "      <td>s34</td>\n",
       "      <td>Movie</td>\n",
       "      <td>#realityhigh</td>\n",
       "      <td>Fernando Lebrija</td>\n",
       "      <td>Nesta Cooper, Kate Walsh, John Michael Higgins...</td>\n",
       "      <td>United States</td>\n",
       "      <td>September 8, 2017</td>\n",
       "      <td>TV-14</td>\n",
       "      <td>99 min</td>\n",
       "      <td>Comedies</td>\n",
       "      <td>When nerdy high schooler Dani finally attracts...</td>\n",
       "      <td>2017-09-08</td>\n",
       "      <td>2017.0</td>\n",
       "    </tr>\n",
       "    <tr>\n",
       "      <th>58</th>\n",
       "      <td>s59</td>\n",
       "      <td>TV Show</td>\n",
       "      <td>100% Hotter</td>\n",
       "      <td>NaN</td>\n",
       "      <td>Daniel Palmer, Melissa Sophia, Karen Williams,...</td>\n",
       "      <td>United Kingdom</td>\n",
       "      <td>November 1, 2019</td>\n",
       "      <td>TV-14</td>\n",
       "      <td>1 Season</td>\n",
       "      <td>British TV Shows, International TV Shows, Real...</td>\n",
       "      <td>A stylist, a hair designer and a makeup artist...</td>\n",
       "      <td>2019-11-01</td>\n",
       "      <td>2019.0</td>\n",
       "    </tr>\n",
       "    <tr>\n",
       "      <th>72</th>\n",
       "      <td>s73</td>\n",
       "      <td>Movie</td>\n",
       "      <td>17 Again</td>\n",
       "      <td>Burr Steers</td>\n",
       "      <td>Zac Efron, Leslie Mann, Matthew Perry, Thomas ...</td>\n",
       "      <td>United States</td>\n",
       "      <td>January 1, 2021</td>\n",
       "      <td>PG-13</td>\n",
       "      <td>102 min</td>\n",
       "      <td>Comedies</td>\n",
       "      <td>Nearing a midlife crisis, thirty-something Mik...</td>\n",
       "      <td>2021-01-01</td>\n",
       "      <td>2021.0</td>\n",
       "    </tr>\n",
       "    <tr>\n",
       "      <th>82</th>\n",
       "      <td>s83</td>\n",
       "      <td>Movie</td>\n",
       "      <td>2036 Origin Unknown</td>\n",
       "      <td>Hasraf Dulull</td>\n",
       "      <td>Katee Sackhoff, Ray Fearon, Julie Cox, Steven ...</td>\n",
       "      <td>United Kingdom</td>\n",
       "      <td>December 20, 2018</td>\n",
       "      <td>TV-14</td>\n",
       "      <td>95 min</td>\n",
       "      <td>Sci-Fi &amp; Fantasy</td>\n",
       "      <td>Working with an artificial intelligence to inv...</td>\n",
       "      <td>2018-12-20</td>\n",
       "      <td>2018.0</td>\n",
       "    </tr>\n",
       "    <tr>\n",
       "      <th>...</th>\n",
       "      <td>...</td>\n",
       "      <td>...</td>\n",
       "      <td>...</td>\n",
       "      <td>...</td>\n",
       "      <td>...</td>\n",
       "      <td>...</td>\n",
       "      <td>...</td>\n",
       "      <td>...</td>\n",
       "      <td>...</td>\n",
       "      <td>...</td>\n",
       "      <td>...</td>\n",
       "      <td>...</td>\n",
       "      <td>...</td>\n",
       "    </tr>\n",
       "    <tr>\n",
       "      <th>7670</th>\n",
       "      <td>s7669</td>\n",
       "      <td>TV Show</td>\n",
       "      <td>World War II in Colour</td>\n",
       "      <td>NaN</td>\n",
       "      <td>Robert Powell</td>\n",
       "      <td>United Kingdom</td>\n",
       "      <td>August 1, 2017</td>\n",
       "      <td>TV-MA</td>\n",
       "      <td>1 Season</td>\n",
       "      <td>British TV Shows, Docuseries, International TV...</td>\n",
       "      <td>Footage of the most dramatic moments from Worl...</td>\n",
       "      <td>2017-08-01</td>\n",
       "      <td>2017.0</td>\n",
       "    </tr>\n",
       "    <tr>\n",
       "      <th>7671</th>\n",
       "      <td>s7670</td>\n",
       "      <td>TV Show</td>\n",
       "      <td>World's Busiest Cities</td>\n",
       "      <td>NaN</td>\n",
       "      <td>Anita Rani, Ade Adepitan, Dan Snow</td>\n",
       "      <td>United Kingdom</td>\n",
       "      <td>February 1, 2019</td>\n",
       "      <td>TV-PG</td>\n",
       "      <td>1 Season</td>\n",
       "      <td>British TV Shows, Docuseries</td>\n",
       "      <td>From Moscow to Mexico City, three BBC journali...</td>\n",
       "      <td>2019-02-01</td>\n",
       "      <td>2019.0</td>\n",
       "    </tr>\n",
       "    <tr>\n",
       "      <th>7688</th>\n",
       "      <td>s7687</td>\n",
       "      <td>Movie</td>\n",
       "      <td>XV: Beyond the Tryline</td>\n",
       "      <td>Pierre Deschamps</td>\n",
       "      <td>NaN</td>\n",
       "      <td>United Kingdom</td>\n",
       "      <td>March 18, 2020</td>\n",
       "      <td>TV-14</td>\n",
       "      <td>91 min</td>\n",
       "      <td>Documentaries, Sports Movies</td>\n",
       "      <td>Set against the 2015 Rugby World Cup, this doc...</td>\n",
       "      <td>2020-03-18</td>\n",
       "      <td>2020.0</td>\n",
       "    </tr>\n",
       "    <tr>\n",
       "      <th>7725</th>\n",
       "      <td>s7724</td>\n",
       "      <td>Movie</td>\n",
       "      <td>You Can Tutu</td>\n",
       "      <td>James Brown</td>\n",
       "      <td>Lily O'Regan, Jeannettsy Enriquez Borges, Joel...</td>\n",
       "      <td>United Kingdom</td>\n",
       "      <td>December 31, 2017</td>\n",
       "      <td>TV-G</td>\n",
       "      <td>87 min</td>\n",
       "      <td>Children &amp; Family Movies</td>\n",
       "      <td>A gifted young ballet dancer struggles to find...</td>\n",
       "      <td>2017-12-31</td>\n",
       "      <td>2017.0</td>\n",
       "    </tr>\n",
       "    <tr>\n",
       "      <th>7740</th>\n",
       "      <td>s7739</td>\n",
       "      <td>TV Show</td>\n",
       "      <td>Young Wallander</td>\n",
       "      <td>NaN</td>\n",
       "      <td>Adam Pålsson, Richard Dillane, Leanne Best, El...</td>\n",
       "      <td>United Kingdom</td>\n",
       "      <td>September 3, 2020</td>\n",
       "      <td>TV-MA</td>\n",
       "      <td>1 Season</td>\n",
       "      <td>Crime TV Shows, International TV Shows, TV Dramas</td>\n",
       "      <td>An incendiary hate crime stirs civil unrest, f...</td>\n",
       "      <td>2020-09-03</td>\n",
       "      <td>2020.0</td>\n",
       "    </tr>\n",
       "  </tbody>\n",
       "</table>\n",
       "<p>485 rows × 13 columns</p>\n",
       "</div>"
      ],
      "text/plain": [
       "     Show_Id Category                   Title          Director  \\\n",
       "19       s20    Movie                     '89               NaN   \n",
       "33       s34    Movie            #realityhigh  Fernando Lebrija   \n",
       "58       s59  TV Show             100% Hotter               NaN   \n",
       "72       s73    Movie                17 Again       Burr Steers   \n",
       "82       s83    Movie     2036 Origin Unknown     Hasraf Dulull   \n",
       "...      ...      ...                     ...               ...   \n",
       "7670   s7669  TV Show  World War II in Colour               NaN   \n",
       "7671   s7670  TV Show  World's Busiest Cities               NaN   \n",
       "7688   s7687    Movie  XV: Beyond the Tryline  Pierre Deschamps   \n",
       "7725   s7724    Movie            You Can Tutu       James Brown   \n",
       "7740   s7739  TV Show         Young Wallander               NaN   \n",
       "\n",
       "                                                   Cast         Country  \\\n",
       "19                   Lee Dixon, Ian Wright, Paul Merson  United Kingdom   \n",
       "33    Nesta Cooper, Kate Walsh, John Michael Higgins...   United States   \n",
       "58    Daniel Palmer, Melissa Sophia, Karen Williams,...  United Kingdom   \n",
       "72    Zac Efron, Leslie Mann, Matthew Perry, Thomas ...   United States   \n",
       "82    Katee Sackhoff, Ray Fearon, Julie Cox, Steven ...  United Kingdom   \n",
       "...                                                 ...             ...   \n",
       "7670                                      Robert Powell  United Kingdom   \n",
       "7671                 Anita Rani, Ade Adepitan, Dan Snow  United Kingdom   \n",
       "7688                                                NaN  United Kingdom   \n",
       "7725  Lily O'Regan, Jeannettsy Enriquez Borges, Joel...  United Kingdom   \n",
       "7740  Adam Pålsson, Richard Dillane, Leanne Best, El...  United Kingdom   \n",
       "\n",
       "           Release_Date Rating  Duration  \\\n",
       "19         May 16, 2018  TV-PG    87 min   \n",
       "33    September 8, 2017  TV-14    99 min   \n",
       "58     November 1, 2019  TV-14  1 Season   \n",
       "72      January 1, 2021  PG-13   102 min   \n",
       "82    December 20, 2018  TV-14    95 min   \n",
       "...                 ...    ...       ...   \n",
       "7670     August 1, 2017  TV-MA  1 Season   \n",
       "7671   February 1, 2019  TV-PG  1 Season   \n",
       "7688     March 18, 2020  TV-14    91 min   \n",
       "7725  December 31, 2017   TV-G    87 min   \n",
       "7740  September 3, 2020  TV-MA  1 Season   \n",
       "\n",
       "                                                   Type  \\\n",
       "19                                        Sports Movies   \n",
       "33                                             Comedies   \n",
       "58    British TV Shows, International TV Shows, Real...   \n",
       "72                                             Comedies   \n",
       "82                                     Sci-Fi & Fantasy   \n",
       "...                                                 ...   \n",
       "7670  British TV Shows, Docuseries, International TV...   \n",
       "7671                       British TV Shows, Docuseries   \n",
       "7688                       Documentaries, Sports Movies   \n",
       "7725                           Children & Family Movies   \n",
       "7740  Crime TV Shows, International TV Shows, TV Dramas   \n",
       "\n",
       "                                            Description     Date_N    Year  \n",
       "19    Mixing old footage with interviews, this is th... 2018-05-16  2018.0  \n",
       "33    When nerdy high schooler Dani finally attracts... 2017-09-08  2017.0  \n",
       "58    A stylist, a hair designer and a makeup artist... 2019-11-01  2019.0  \n",
       "72    Nearing a midlife crisis, thirty-something Mik... 2021-01-01  2021.0  \n",
       "82    Working with an artificial intelligence to inv... 2018-12-20  2018.0  \n",
       "...                                                 ...        ...     ...  \n",
       "7670  Footage of the most dramatic moments from Worl... 2017-08-01  2017.0  \n",
       "7671  From Moscow to Mexico City, three BBC journali... 2019-02-01  2019.0  \n",
       "7688  Set against the 2015 Rugby World Cup, this doc... 2020-03-18  2020.0  \n",
       "7725  A gifted young ballet dancer struggles to find... 2017-12-31  2017.0  \n",
       "7740  An incendiary hate crime stirs civil unrest, f... 2020-09-03  2020.0  \n",
       "\n",
       "[485 rows x 13 columns]"
      ]
     },
     "execution_count": 71,
     "metadata": {},
     "output_type": "execute_result"
    }
   ],
   "source": [
    "df[(df['Category']=='Movie')&(df['Type']=='Comedies')|(df['Country']=='United Kingdom')]"
   ]
  },
  {
   "cell_type": "markdown",
   "id": "02dbe5a4",
   "metadata": {},
   "source": [
    "### 8. In how many movies/shows, Tom Cruise was cast"
   ]
  },
  {
   "cell_type": "markdown",
   "id": "aca7e231",
   "metadata": {},
   "source": [
    "#### Create new dataframe"
   ]
  },
  {
   "cell_type": "code",
   "execution_count": 80,
   "id": "86905178",
   "metadata": {},
   "outputs": [],
   "source": [
    "df_new=df.dropna()"
   ]
  },
  {
   "cell_type": "markdown",
   "id": "7d5c8d81",
   "metadata": {},
   "source": [
    "#### HOW many movies tom act"
   ]
  },
  {
   "cell_type": "code",
   "execution_count": 79,
   "id": "ae7fdce0",
   "metadata": {},
   "outputs": [
    {
     "data": {
      "text/html": [
       "<div>\n",
       "<style scoped>\n",
       "    .dataframe tbody tr th:only-of-type {\n",
       "        vertical-align: middle;\n",
       "    }\n",
       "\n",
       "    .dataframe tbody tr th {\n",
       "        vertical-align: top;\n",
       "    }\n",
       "\n",
       "    .dataframe thead th {\n",
       "        text-align: right;\n",
       "    }\n",
       "</style>\n",
       "<table border=\"1\" class=\"dataframe\">\n",
       "  <thead>\n",
       "    <tr style=\"text-align: right;\">\n",
       "      <th></th>\n",
       "      <th>Show_Id</th>\n",
       "      <th>Category</th>\n",
       "      <th>Title</th>\n",
       "      <th>Director</th>\n",
       "      <th>Cast</th>\n",
       "      <th>Country</th>\n",
       "      <th>Release_Date</th>\n",
       "      <th>Rating</th>\n",
       "      <th>Duration</th>\n",
       "      <th>Type</th>\n",
       "      <th>Description</th>\n",
       "      <th>Date_N</th>\n",
       "      <th>Year</th>\n",
       "    </tr>\n",
       "  </thead>\n",
       "  <tbody>\n",
       "    <tr>\n",
       "      <th>3860</th>\n",
       "      <td>s3861</td>\n",
       "      <td>Movie</td>\n",
       "      <td>Magnolia</td>\n",
       "      <td>Paul Thomas Anderson</td>\n",
       "      <td>Jeremy Blackman, Tom Cruise, Melinda Dillon, A...</td>\n",
       "      <td>United States</td>\n",
       "      <td>January 1, 2020</td>\n",
       "      <td>R</td>\n",
       "      <td>189 min</td>\n",
       "      <td>Dramas, Independent Movies</td>\n",
       "      <td>Through chance, human action, past history and...</td>\n",
       "      <td>2020-01-01</td>\n",
       "      <td>2020.0</td>\n",
       "    </tr>\n",
       "    <tr>\n",
       "      <th>5071</th>\n",
       "      <td>s5071</td>\n",
       "      <td>Movie</td>\n",
       "      <td>Rain Man</td>\n",
       "      <td>Barry Levinson</td>\n",
       "      <td>Dustin Hoffman, Tom Cruise, Valeria Golino, Ge...</td>\n",
       "      <td>United States</td>\n",
       "      <td>July 1, 2019</td>\n",
       "      <td>R</td>\n",
       "      <td>134 min</td>\n",
       "      <td>Classic Movies, Dramas</td>\n",
       "      <td>A fast-talking yuppie is forced to slow down w...</td>\n",
       "      <td>2019-07-01</td>\n",
       "      <td>2019.0</td>\n",
       "    </tr>\n",
       "  </tbody>\n",
       "</table>\n",
       "</div>"
      ],
      "text/plain": [
       "     Show_Id Category     Title              Director  \\\n",
       "3860   s3861    Movie  Magnolia  Paul Thomas Anderson   \n",
       "5071   s5071    Movie  Rain Man        Barry Levinson   \n",
       "\n",
       "                                                   Cast        Country  \\\n",
       "3860  Jeremy Blackman, Tom Cruise, Melinda Dillon, A...  United States   \n",
       "5071  Dustin Hoffman, Tom Cruise, Valeria Golino, Ge...  United States   \n",
       "\n",
       "         Release_Date Rating Duration                        Type  \\\n",
       "3860  January 1, 2020      R  189 min  Dramas, Independent Movies   \n",
       "5071     July 1, 2019      R  134 min      Classic Movies, Dramas   \n",
       "\n",
       "                                            Description     Date_N    Year  \n",
       "3860  Through chance, human action, past history and... 2020-01-01  2020.0  \n",
       "5071  A fast-talking yuppie is forced to slow down w... 2019-07-01  2019.0  "
      ]
     },
     "execution_count": 79,
     "metadata": {},
     "output_type": "execute_result"
    }
   ],
   "source": [
    "df_new[df_new['Cast'].str.contains('Tom Cruise')]"
   ]
  },
  {
   "cell_type": "markdown",
   "id": "152cdbe7",
   "metadata": {},
   "source": [
    "### 9.What are the different Ratings defined by Netflix"
   ]
  },
  {
   "cell_type": "code",
   "execution_count": 81,
   "id": "d2f4108e",
   "metadata": {},
   "outputs": [
    {
     "data": {
      "text/plain": [
       "array(['TV-MA', 'R', 'PG-13', 'TV-14', 'TV-PG', 'NR', 'TV-G', 'TV-Y', nan,\n",
       "       'TV-Y7', 'PG', 'G', 'NC-17', 'TV-Y7-FV', 'UR'], dtype=object)"
      ]
     },
     "execution_count": 81,
     "metadata": {},
     "output_type": "execute_result"
    }
   ],
   "source": [
    "df['Rating'].unique()"
   ]
  },
  {
   "cell_type": "markdown",
   "id": "f15c4deb",
   "metadata": {},
   "source": [
    "### 10.How many Movies got the 'TV-14' rating, in Canada "
   ]
  },
  {
   "cell_type": "code",
   "execution_count": 84,
   "id": "70768f4f",
   "metadata": {},
   "outputs": [
    {
     "data": {
      "text/plain": [
       "11"
      ]
     },
     "execution_count": 84,
     "metadata": {},
     "output_type": "execute_result"
    }
   ],
   "source": [
    "len(df[(df['Category']=='Movie')&(df['Rating']=='TV-14')&(df['Country']=='Canada')])"
   ]
  },
  {
   "cell_type": "markdown",
   "id": "8538c0d6",
   "metadata": {},
   "source": [
    "### 11. How many TV Shows got the 'R' rating, after year 2018 ?\n"
   ]
  },
  {
   "cell_type": "code",
   "execution_count": 87,
   "id": "2c3fe35b",
   "metadata": {},
   "outputs": [
    {
     "data": {
      "text/html": [
       "<div>\n",
       "<style scoped>\n",
       "    .dataframe tbody tr th:only-of-type {\n",
       "        vertical-align: middle;\n",
       "    }\n",
       "\n",
       "    .dataframe tbody tr th {\n",
       "        vertical-align: top;\n",
       "    }\n",
       "\n",
       "    .dataframe thead th {\n",
       "        text-align: right;\n",
       "    }\n",
       "</style>\n",
       "<table border=\"1\" class=\"dataframe\">\n",
       "  <thead>\n",
       "    <tr style=\"text-align: right;\">\n",
       "      <th></th>\n",
       "      <th>Show_Id</th>\n",
       "      <th>Category</th>\n",
       "      <th>Title</th>\n",
       "      <th>Director</th>\n",
       "      <th>Cast</th>\n",
       "      <th>Country</th>\n",
       "      <th>Release_Date</th>\n",
       "      <th>Rating</th>\n",
       "      <th>Duration</th>\n",
       "      <th>Type</th>\n",
       "      <th>Description</th>\n",
       "      <th>Date_N</th>\n",
       "      <th>Year</th>\n",
       "    </tr>\n",
       "  </thead>\n",
       "  <tbody>\n",
       "    <tr>\n",
       "      <th>6437</th>\n",
       "      <td>s6436</td>\n",
       "      <td>TV Show</td>\n",
       "      <td>The Hateful Eight: Extended Version</td>\n",
       "      <td>Quentin Tarantino</td>\n",
       "      <td>Samuel L. Jackson, Kurt Russell, Jennifer Jaso...</td>\n",
       "      <td>NaN</td>\n",
       "      <td>April 25, 2019</td>\n",
       "      <td>R</td>\n",
       "      <td>1 Season</td>\n",
       "      <td>TV Shows</td>\n",
       "      <td>Trapped at a stagecoach stop as a storm rages ...</td>\n",
       "      <td>2019-04-25</td>\n",
       "      <td>2019.0</td>\n",
       "    </tr>\n",
       "  </tbody>\n",
       "</table>\n",
       "</div>"
      ],
      "text/plain": [
       "     Show_Id Category                                Title           Director  \\\n",
       "6437   s6436  TV Show  The Hateful Eight: Extended Version  Quentin Tarantino   \n",
       "\n",
       "                                                   Cast Country  \\\n",
       "6437  Samuel L. Jackson, Kurt Russell, Jennifer Jaso...     NaN   \n",
       "\n",
       "        Release_Date Rating  Duration      Type  \\\n",
       "6437  April 25, 2019      R  1 Season  TV Shows   \n",
       "\n",
       "                                            Description     Date_N    Year  \n",
       "6437  Trapped at a stagecoach stop as a storm rages ... 2019-04-25  2019.0  "
      ]
     },
     "execution_count": 87,
     "metadata": {},
     "output_type": "execute_result"
    }
   ],
   "source": [
    "df[(df['Category']=='TV Show')&(df['Rating']=='R')&(df['Year']>2018)]"
   ]
  },
  {
   "cell_type": "markdown",
   "id": "21f50f73",
   "metadata": {},
   "source": [
    "### 11. What is the maximum duration of a Movie/Show on Netflix"
   ]
  },
  {
   "cell_type": "code",
   "execution_count": 91,
   "id": "06b6e3c2",
   "metadata": {
    "scrolled": true
   },
   "outputs": [
    {
     "data": {
      "text/plain": [
       "array(['4 Seasons', '93 min', '78 min', '80 min', '123 min', '1 Season',\n",
       "       '95 min', '119 min', '118 min', '143 min', '103 min', '89 min',\n",
       "       '91 min', '149 min', '144 min', '124 min', '87 min', '110 min',\n",
       "       '128 min', '117 min', '100 min', '2 Seasons', '84 min', '99 min',\n",
       "       '90 min', '102 min', '104 min', '105 min', '56 min', '125 min',\n",
       "       '81 min', '97 min', '106 min', '107 min', '109 min', '44 min',\n",
       "       '75 min', '101 min', '3 Seasons', '37 min', '113 min', '114 min',\n",
       "       '130 min', '94 min', '140 min', '135 min', '82 min', '70 min',\n",
       "       '121 min', '92 min', '164 min', '53 min', '83 min', '116 min',\n",
       "       '86 min', '120 min', '96 min', '126 min', '129 min', '77 min',\n",
       "       '137 min', '148 min', '28 min', '122 min', '176 min', '85 min',\n",
       "       '22 min', '68 min', '111 min', '29 min', '142 min', '168 min',\n",
       "       '21 min', '59 min', '20 min', '98 min', '108 min', '76 min',\n",
       "       '26 min', '156 min', '30 min', '57 min', '150 min', '133 min',\n",
       "       '115 min', '154 min', '127 min', '146 min', '136 min', '88 min',\n",
       "       '131 min', '24 min', '112 min', '74 min', '63 min', '38 min',\n",
       "       '25 min', '174 min', '60 min', '153 min', '158 min', '151 min',\n",
       "       '162 min', '54 min', '51 min', '69 min', '64 min', '147 min',\n",
       "       '42 min', '79 min', '5 Seasons', '40 min', '45 min', '172 min',\n",
       "       '10 min', '163 min', '9 Seasons', '55 min', '72 min', '61 min',\n",
       "       '71 min', '160 min', '171 min', '48 min', '139 min', '157 min',\n",
       "       '15 min', '65 min', '134 min', '161 min', '62 min', '8 Seasons',\n",
       "       '186 min', '49 min', '73 min', '58 min', '165 min', '166 min',\n",
       "       '138 min', '159 min', '141 min', '132 min', '52 min', '67 min',\n",
       "       '34 min', '66 min', '312 min', '180 min', '47 min', '6 Seasons',\n",
       "       '155 min', '14 min', '177 min', '11 min', '9 min', '46 min',\n",
       "       '145 min', '11 Seasons', '7 Seasons', '13 Seasons', '8 min',\n",
       "       '12 min', '12 Seasons', '10 Seasons', '43 min', '50 min', '23 min',\n",
       "       '185 min', '200 min', '169 min', '27 min', '170 min', '196 min',\n",
       "       '33 min', '181 min', '204 min', '32 min', '35 min', '167 min',\n",
       "       '16 Seasons', '179 min', '193 min', '13 min', '214 min', '17 min',\n",
       "       '173 min', '192 min', '209 min', '187 min', '41 min', '182 min',\n",
       "       '224 min', '233 min', '189 min', '152 min', '19 min', '15 Seasons',\n",
       "       '208 min', '237 min', '31 min', '178 min', '230 min', '194 min',\n",
       "       '228 min', '195 min', '3 min', '16 min', '5 min', '18 min',\n",
       "       '205 min', '190 min', '36 min', '201 min', '253 min', '203 min',\n",
       "       '191 min'], dtype=object)"
      ]
     },
     "execution_count": 91,
     "metadata": {},
     "output_type": "execute_result"
    }
   ],
   "source": [
    "df['Duration'].unique()"
   ]
  },
  {
   "cell_type": "markdown",
   "id": "074eec0f",
   "metadata": {},
   "source": [
    "#### split"
   ]
  },
  {
   "cell_type": "code",
   "execution_count": 92,
   "id": "e3f69a4a",
   "metadata": {},
   "outputs": [],
   "source": [
    "df[['Minutes','Unit']]=df['Duration'].str.split(' ',expand=True)"
   ]
  },
  {
   "cell_type": "code",
   "execution_count": 93,
   "id": "3dc83e41",
   "metadata": {},
   "outputs": [
    {
     "data": {
      "text/html": [
       "<div>\n",
       "<style scoped>\n",
       "    .dataframe tbody tr th:only-of-type {\n",
       "        vertical-align: middle;\n",
       "    }\n",
       "\n",
       "    .dataframe tbody tr th {\n",
       "        vertical-align: top;\n",
       "    }\n",
       "\n",
       "    .dataframe thead th {\n",
       "        text-align: right;\n",
       "    }\n",
       "</style>\n",
       "<table border=\"1\" class=\"dataframe\">\n",
       "  <thead>\n",
       "    <tr style=\"text-align: right;\">\n",
       "      <th></th>\n",
       "      <th>Show_Id</th>\n",
       "      <th>Category</th>\n",
       "      <th>Title</th>\n",
       "      <th>Director</th>\n",
       "      <th>Cast</th>\n",
       "      <th>Country</th>\n",
       "      <th>Release_Date</th>\n",
       "      <th>Rating</th>\n",
       "      <th>Duration</th>\n",
       "      <th>Type</th>\n",
       "      <th>Description</th>\n",
       "      <th>Date_N</th>\n",
       "      <th>Year</th>\n",
       "      <th>Minutes</th>\n",
       "      <th>Unit</th>\n",
       "    </tr>\n",
       "  </thead>\n",
       "  <tbody>\n",
       "    <tr>\n",
       "      <th>0</th>\n",
       "      <td>s1</td>\n",
       "      <td>TV Show</td>\n",
       "      <td>3%</td>\n",
       "      <td>NaN</td>\n",
       "      <td>João Miguel, Bianca Comparato, Michel Gomes, R...</td>\n",
       "      <td>Brazil</td>\n",
       "      <td>August 14, 2020</td>\n",
       "      <td>TV-MA</td>\n",
       "      <td>4 Seasons</td>\n",
       "      <td>International TV Shows, TV Dramas, TV Sci-Fi &amp;...</td>\n",
       "      <td>In a future where the elite inhabit an island ...</td>\n",
       "      <td>2020-08-14</td>\n",
       "      <td>2020.0</td>\n",
       "      <td>4</td>\n",
       "      <td>Seasons</td>\n",
       "    </tr>\n",
       "    <tr>\n",
       "      <th>1</th>\n",
       "      <td>s2</td>\n",
       "      <td>Movie</td>\n",
       "      <td>07:19</td>\n",
       "      <td>Jorge Michel Grau</td>\n",
       "      <td>Demián Bichir, Héctor Bonilla, Oscar Serrano, ...</td>\n",
       "      <td>Mexico</td>\n",
       "      <td>December 23, 2016</td>\n",
       "      <td>TV-MA</td>\n",
       "      <td>93 min</td>\n",
       "      <td>Dramas, International Movies</td>\n",
       "      <td>After a devastating earthquake hits Mexico Cit...</td>\n",
       "      <td>2016-12-23</td>\n",
       "      <td>2016.0</td>\n",
       "      <td>93</td>\n",
       "      <td>min</td>\n",
       "    </tr>\n",
       "  </tbody>\n",
       "</table>\n",
       "</div>"
      ],
      "text/plain": [
       "  Show_Id Category  Title           Director  \\\n",
       "0      s1  TV Show     3%                NaN   \n",
       "1      s2    Movie  07:19  Jorge Michel Grau   \n",
       "\n",
       "                                                Cast Country  \\\n",
       "0  João Miguel, Bianca Comparato, Michel Gomes, R...  Brazil   \n",
       "1  Demián Bichir, Héctor Bonilla, Oscar Serrano, ...  Mexico   \n",
       "\n",
       "        Release_Date Rating   Duration  \\\n",
       "0    August 14, 2020  TV-MA  4 Seasons   \n",
       "1  December 23, 2016  TV-MA     93 min   \n",
       "\n",
       "                                                Type  \\\n",
       "0  International TV Shows, TV Dramas, TV Sci-Fi &...   \n",
       "1                       Dramas, International Movies   \n",
       "\n",
       "                                         Description     Date_N    Year  \\\n",
       "0  In a future where the elite inhabit an island ... 2020-08-14  2020.0   \n",
       "1  After a devastating earthquake hits Mexico Cit... 2016-12-23  2016.0   \n",
       "\n",
       "  Minutes     Unit  \n",
       "0       4  Seasons  \n",
       "1      93      min  "
      ]
     },
     "execution_count": 93,
     "metadata": {},
     "output_type": "execute_result"
    }
   ],
   "source": [
    "df.head(2)"
   ]
  },
  {
   "cell_type": "code",
   "execution_count": 95,
   "id": "67d9eb5c",
   "metadata": {},
   "outputs": [
    {
     "data": {
      "text/plain": [
       "'99'"
      ]
     },
     "execution_count": 95,
     "metadata": {},
     "output_type": "execute_result"
    }
   ],
   "source": [
    "df['Minutes'].max()"
   ]
  },
  {
   "cell_type": "markdown",
   "id": "8a862ee7",
   "metadata": {},
   "source": [
    "### 12. Which individual country has the Highest No. of TV Shows"
   ]
  },
  {
   "cell_type": "code",
   "execution_count": 97,
   "id": "2e9fae50",
   "metadata": {},
   "outputs": [],
   "source": [
    "df_tv=df[df['Category']=='TV Show']"
   ]
  },
  {
   "cell_type": "code",
   "execution_count": 100,
   "id": "cb392c1c",
   "metadata": {},
   "outputs": [
    {
     "data": {
      "text/plain": [
       "<AxesSubplot:>"
      ]
     },
     "execution_count": 100,
     "metadata": {},
     "output_type": "execute_result"
    },
    {
     "data": {
      "image/png": "[encoded data removed]",
      "text/plain": [
       "<Figure size 432x288 with 1 Axes>"
      ]
     },
     "metadata": {
      "needs_background": "light"
     },
     "output_type": "display_data"
    }
   ],
   "source": [
    "df_tv['Country'].value_counts().head(10).plot(kind='bar')"
   ]
  },
  {
   "cell_type": "markdown",
   "id": "84bbd10f",
   "metadata": {},
   "source": [
    "# SUMMARY & CONCLUSION"
   ]
  },
  {
   "cell_type": "markdown",
   "id": "9bf6200d",
   "metadata": {},
   "source": [
    " United states have more television than any other country in the world\n",
    " \n",
    " More movies and tv shows released in 2019\n"
   ]
  }
 ],
 "metadata": {
  "kernelspec": {
   "display_name": "Python 3 (ipykernel)",
   "language": "python",
   "name": "python3"
  },
  "language_info": {
   "codemirror_mode": {
    "name": "ipython",
    "version": 3
   },
   "file_extension": ".py",
   "mimetype": "text/x-python",
   "name": "python",
   "nbconvert_exporter": "python",
   "pygments_lexer": "ipython3",
   "version": "3.9.7"
  }
 },
 "nbformat": 4,
 "nbformat_minor": 5
}
